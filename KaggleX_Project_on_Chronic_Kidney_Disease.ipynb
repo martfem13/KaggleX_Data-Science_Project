{
  "cells": [
    {
      "cell_type": "markdown",
      "source": [
        "# **Project Outline**\n",
        "\n",
        "This project is in three different segments\n",
        "\n",
        "- **SEGEMNT 1** (Project Description and **EDA**)\n",
        "\n",
        "- **SEGMENT 2** (Project **Visualization** and Analysis)\n",
        "\n",
        "- **SEGMENT 3** (Data **Spliting**, **Model building**, **Deployment**, **Insights drawn** and **Project Summary**)\n"
      ],
      "metadata": {
        "id": "hJscwCeVkCXr"
      }
    },
    {
      "cell_type": "markdown",
      "source": [
        "# **A. SEGMENT 1**"
      ],
      "metadata": {
        "id": "u9sXRUrfkEoi"
      }
    },
    {
      "cell_type": "markdown",
      "metadata": {
        "id": "ZCWLHXgOQvrp"
      },
      "source": [
        "# **Project Description**\n",
        "\n",
        "\n",
        "\n",
        "- This project aims at building a Machine Learning Model that is capable of predicting the presence or absence of chronic kidney disease in an observed patient. This is entirely a Machine learning classification task which falls under binary classification.  Meaning, we would only have two possible predictions of our observation thus \"yes\" or \"no\" as to whether  chronic kidney disease is present in an observed patient or not.\n",
        "\n",
        "- In this project, our machine learning model will be trained to classify each new observation introduced to it. Model will do this by making inferences on the trianed data set (looking at similarity of attributes) in order to build a predictive model for our analysis.\n",
        "Dataset in this project was gotten from University of California, Irvine (UCI) Machine learning website, and pre-cleaned before usage.\n",
        "\n",
        "- Dataset was further gathered to assist healthcare professionals in diagnosing patients for the predicting of chronic kidney disease in their system. Each entry represents a distinct patient who underwent diagnosis, had their relevant information recorded and documented.\n",
        "Furthermore, in this project, we will utilize both training and testing datasets. The training data will enable our machine learning model to observe, recognize, and learn patterns and trends within each patient's data.\n",
        "\n",
        "- Subsequently, using the testing data, we will evaluate the model's performance in terms of accuracy. This crucial step allows us to assess the practical effectiveness of our machine learning model.\n",
        "Additionally, we will train our model on the observed attributes about each single unique patient in our analysis.\n",
        "We will then test the model with new data labels which we will generate in the course of our analysis and observe the accuracy of the prediction of our model on unseen or future data.\n",
        "\n",
        "- Finally, we will deploy f1 score to assess the overall performance of our model if it fits well with our data.\n",
        "\n",
        "\n",
        "\n",
        "\n",
        "\n",
        "\n"
      ]
    },
    {
      "cell_type": "markdown",
      "metadata": {
        "id": "5cLFHRG8qEBz"
      },
      "source": [
        "# Importing neccessary libraries\n",
        "We will import import the relevant libraries that are needed to work on our chronic kidney disease data set."
      ]
    },
    {
      "cell_type": "code",
      "execution_count": 83,
      "metadata": {
        "id": "FH0SyVupRMO2"
      },
      "outputs": [],
      "source": [
        "# Importing neccessary libraries needed for anaysing our dataset\n",
        "\n",
        "import pandas as pd\n",
        "import numpy as np\n",
        "import seaborn as sns\n",
        "import matplotlib.pyplot as plt\n",
        "from sklearn.model_selection import train_test_split\n",
        "from sklearn.neighbors import KNeighborsClassifier\n",
        "from sklearn.metrics import f1_score"
      ]
    },
    {
      "cell_type": "markdown",
      "metadata": {
        "id": "cSfT8P-WtBMe"
      },
      "source": [
        "# Loading our dataset and defining"
      ]
    },
    {
      "cell_type": "code",
      "execution_count": 84,
      "metadata": {
        "id": "1ecNkeT9KhEG",
        "outputId": "a6271448-1dc4-4c52-b9d7-157496fd2938",
        "colab": {
          "base_uri": "https://localhost:8080/",
          "height": 464
        }
      },
      "outputs": [
        {
          "output_type": "execute_result",
          "data": {
            "text/plain": [
              "   Age  Blood Pressure  Specific Gravity  Albumin  Sugar Red Blood Cells  \\\n",
              "0   48              70             1.005        4      0          normal   \n",
              "1   53              90             1.020        2      0        abnormal   \n",
              "2   63              70             1.010        3      0        abnormal   \n",
              "3   68              80             1.010        3      2          normal   \n",
              "4   61              80             1.015        2      0        abnormal   \n",
              "5   48              80             1.025        4      0          normal   \n",
              "6   69              70             1.010        3      4          normal   \n",
              "7   73              70             1.005        0      0          normal   \n",
              "8   73              80             1.020        2      0        abnormal   \n",
              "9   46              60             1.010        1      0          normal   \n",
              "\n",
              "   Pus Cell Pus Cell clumps    Bacteria  Blood Glucose Random  ...  \\\n",
              "0  abnormal         present  notpresent                   117  ...   \n",
              "1  abnormal         present  notpresent                    70  ...   \n",
              "2  abnormal         present  notpresent                   380  ...   \n",
              "3  abnormal         present     present                   157  ...   \n",
              "4  abnormal      notpresent  notpresent                   173  ...   \n",
              "5  abnormal      notpresent  notpresent                    95  ...   \n",
              "6  abnormal      notpresent  notpresent                   264  ...   \n",
              "7    normal      notpresent  notpresent                    70  ...   \n",
              "8  abnormal      notpresent  notpresent                   253  ...   \n",
              "9    normal      notpresent  notpresent                   163  ...   \n",
              "\n",
              "   Packed Cell Volume  White Blood Cell Count  Red Blood Cell Count  \\\n",
              "0                  32                    6700                   3.9   \n",
              "1                  29                   12100                   3.7   \n",
              "2                  32                    4500                   3.8   \n",
              "3                  16                   11000                   2.6   \n",
              "4                  24                    9200                   3.2   \n",
              "5                  32                    6900                   3.4   \n",
              "6                  37                    9600                   4.1   \n",
              "7                  29                   18900                   3.5   \n",
              "8                  33                    7200                   4.3   \n",
              "9                  28                   14600                   3.2   \n",
              "\n",
              "   Hypertension  Diabetes Mellitus  Coronary Artery Disease  Appetite  \\\n",
              "0           yes                 no                       no      poor   \n",
              "1           yes                yes                       no      poor   \n",
              "2           yes                yes                       no      poor   \n",
              "3           yes                yes                      yes      poor   \n",
              "4           yes                yes                      yes      poor   \n",
              "5           yes                 no                       no      good   \n",
              "6           yes                yes                      yes      good   \n",
              "7           yes                yes                       no      good   \n",
              "8           yes                yes                      yes      good   \n",
              "9           yes                yes                       no      good   \n",
              "\n",
              "   Pedal Edema Anemia Class  \n",
              "0          yes    yes     1  \n",
              "1           no    yes     1  \n",
              "2          yes     no     1  \n",
              "3          yes     no     1  \n",
              "4          yes    yes     1  \n",
              "5           no    yes     1  \n",
              "6          yes     no     1  \n",
              "7          yes     no     1  \n",
              "8           no     no     1  \n",
              "9           no     no     1  \n",
              "\n",
              "[10 rows x 25 columns]"
            ],
            "text/html": [
              "\n",
              "  <div id=\"df-7eb85fb0-ea49-4565-a87a-5ab823e4d592\" class=\"colab-df-container\">\n",
              "    <div>\n",
              "<style scoped>\n",
              "    .dataframe tbody tr th:only-of-type {\n",
              "        vertical-align: middle;\n",
              "    }\n",
              "\n",
              "    .dataframe tbody tr th {\n",
              "        vertical-align: top;\n",
              "    }\n",
              "\n",
              "    .dataframe thead th {\n",
              "        text-align: right;\n",
              "    }\n",
              "</style>\n",
              "<table border=\"1\" class=\"dataframe\">\n",
              "  <thead>\n",
              "    <tr style=\"text-align: right;\">\n",
              "      <th></th>\n",
              "      <th>Age</th>\n",
              "      <th>Blood Pressure</th>\n",
              "      <th>Specific Gravity</th>\n",
              "      <th>Albumin</th>\n",
              "      <th>Sugar</th>\n",
              "      <th>Red Blood Cells</th>\n",
              "      <th>Pus Cell</th>\n",
              "      <th>Pus Cell clumps</th>\n",
              "      <th>Bacteria</th>\n",
              "      <th>Blood Glucose Random</th>\n",
              "      <th>...</th>\n",
              "      <th>Packed Cell Volume</th>\n",
              "      <th>White Blood Cell Count</th>\n",
              "      <th>Red Blood Cell Count</th>\n",
              "      <th>Hypertension</th>\n",
              "      <th>Diabetes Mellitus</th>\n",
              "      <th>Coronary Artery Disease</th>\n",
              "      <th>Appetite</th>\n",
              "      <th>Pedal Edema</th>\n",
              "      <th>Anemia</th>\n",
              "      <th>Class</th>\n",
              "    </tr>\n",
              "  </thead>\n",
              "  <tbody>\n",
              "    <tr>\n",
              "      <th>0</th>\n",
              "      <td>48</td>\n",
              "      <td>70</td>\n",
              "      <td>1.005</td>\n",
              "      <td>4</td>\n",
              "      <td>0</td>\n",
              "      <td>normal</td>\n",
              "      <td>abnormal</td>\n",
              "      <td>present</td>\n",
              "      <td>notpresent</td>\n",
              "      <td>117</td>\n",
              "      <td>...</td>\n",
              "      <td>32</td>\n",
              "      <td>6700</td>\n",
              "      <td>3.9</td>\n",
              "      <td>yes</td>\n",
              "      <td>no</td>\n",
              "      <td>no</td>\n",
              "      <td>poor</td>\n",
              "      <td>yes</td>\n",
              "      <td>yes</td>\n",
              "      <td>1</td>\n",
              "    </tr>\n",
              "    <tr>\n",
              "      <th>1</th>\n",
              "      <td>53</td>\n",
              "      <td>90</td>\n",
              "      <td>1.020</td>\n",
              "      <td>2</td>\n",
              "      <td>0</td>\n",
              "      <td>abnormal</td>\n",
              "      <td>abnormal</td>\n",
              "      <td>present</td>\n",
              "      <td>notpresent</td>\n",
              "      <td>70</td>\n",
              "      <td>...</td>\n",
              "      <td>29</td>\n",
              "      <td>12100</td>\n",
              "      <td>3.7</td>\n",
              "      <td>yes</td>\n",
              "      <td>yes</td>\n",
              "      <td>no</td>\n",
              "      <td>poor</td>\n",
              "      <td>no</td>\n",
              "      <td>yes</td>\n",
              "      <td>1</td>\n",
              "    </tr>\n",
              "    <tr>\n",
              "      <th>2</th>\n",
              "      <td>63</td>\n",
              "      <td>70</td>\n",
              "      <td>1.010</td>\n",
              "      <td>3</td>\n",
              "      <td>0</td>\n",
              "      <td>abnormal</td>\n",
              "      <td>abnormal</td>\n",
              "      <td>present</td>\n",
              "      <td>notpresent</td>\n",
              "      <td>380</td>\n",
              "      <td>...</td>\n",
              "      <td>32</td>\n",
              "      <td>4500</td>\n",
              "      <td>3.8</td>\n",
              "      <td>yes</td>\n",
              "      <td>yes</td>\n",
              "      <td>no</td>\n",
              "      <td>poor</td>\n",
              "      <td>yes</td>\n",
              "      <td>no</td>\n",
              "      <td>1</td>\n",
              "    </tr>\n",
              "    <tr>\n",
              "      <th>3</th>\n",
              "      <td>68</td>\n",
              "      <td>80</td>\n",
              "      <td>1.010</td>\n",
              "      <td>3</td>\n",
              "      <td>2</td>\n",
              "      <td>normal</td>\n",
              "      <td>abnormal</td>\n",
              "      <td>present</td>\n",
              "      <td>present</td>\n",
              "      <td>157</td>\n",
              "      <td>...</td>\n",
              "      <td>16</td>\n",
              "      <td>11000</td>\n",
              "      <td>2.6</td>\n",
              "      <td>yes</td>\n",
              "      <td>yes</td>\n",
              "      <td>yes</td>\n",
              "      <td>poor</td>\n",
              "      <td>yes</td>\n",
              "      <td>no</td>\n",
              "      <td>1</td>\n",
              "    </tr>\n",
              "    <tr>\n",
              "      <th>4</th>\n",
              "      <td>61</td>\n",
              "      <td>80</td>\n",
              "      <td>1.015</td>\n",
              "      <td>2</td>\n",
              "      <td>0</td>\n",
              "      <td>abnormal</td>\n",
              "      <td>abnormal</td>\n",
              "      <td>notpresent</td>\n",
              "      <td>notpresent</td>\n",
              "      <td>173</td>\n",
              "      <td>...</td>\n",
              "      <td>24</td>\n",
              "      <td>9200</td>\n",
              "      <td>3.2</td>\n",
              "      <td>yes</td>\n",
              "      <td>yes</td>\n",
              "      <td>yes</td>\n",
              "      <td>poor</td>\n",
              "      <td>yes</td>\n",
              "      <td>yes</td>\n",
              "      <td>1</td>\n",
              "    </tr>\n",
              "    <tr>\n",
              "      <th>5</th>\n",
              "      <td>48</td>\n",
              "      <td>80</td>\n",
              "      <td>1.025</td>\n",
              "      <td>4</td>\n",
              "      <td>0</td>\n",
              "      <td>normal</td>\n",
              "      <td>abnormal</td>\n",
              "      <td>notpresent</td>\n",
              "      <td>notpresent</td>\n",
              "      <td>95</td>\n",
              "      <td>...</td>\n",
              "      <td>32</td>\n",
              "      <td>6900</td>\n",
              "      <td>3.4</td>\n",
              "      <td>yes</td>\n",
              "      <td>no</td>\n",
              "      <td>no</td>\n",
              "      <td>good</td>\n",
              "      <td>no</td>\n",
              "      <td>yes</td>\n",
              "      <td>1</td>\n",
              "    </tr>\n",
              "    <tr>\n",
              "      <th>6</th>\n",
              "      <td>69</td>\n",
              "      <td>70</td>\n",
              "      <td>1.010</td>\n",
              "      <td>3</td>\n",
              "      <td>4</td>\n",
              "      <td>normal</td>\n",
              "      <td>abnormal</td>\n",
              "      <td>notpresent</td>\n",
              "      <td>notpresent</td>\n",
              "      <td>264</td>\n",
              "      <td>...</td>\n",
              "      <td>37</td>\n",
              "      <td>9600</td>\n",
              "      <td>4.1</td>\n",
              "      <td>yes</td>\n",
              "      <td>yes</td>\n",
              "      <td>yes</td>\n",
              "      <td>good</td>\n",
              "      <td>yes</td>\n",
              "      <td>no</td>\n",
              "      <td>1</td>\n",
              "    </tr>\n",
              "    <tr>\n",
              "      <th>7</th>\n",
              "      <td>73</td>\n",
              "      <td>70</td>\n",
              "      <td>1.005</td>\n",
              "      <td>0</td>\n",
              "      <td>0</td>\n",
              "      <td>normal</td>\n",
              "      <td>normal</td>\n",
              "      <td>notpresent</td>\n",
              "      <td>notpresent</td>\n",
              "      <td>70</td>\n",
              "      <td>...</td>\n",
              "      <td>29</td>\n",
              "      <td>18900</td>\n",
              "      <td>3.5</td>\n",
              "      <td>yes</td>\n",
              "      <td>yes</td>\n",
              "      <td>no</td>\n",
              "      <td>good</td>\n",
              "      <td>yes</td>\n",
              "      <td>no</td>\n",
              "      <td>1</td>\n",
              "    </tr>\n",
              "    <tr>\n",
              "      <th>8</th>\n",
              "      <td>73</td>\n",
              "      <td>80</td>\n",
              "      <td>1.020</td>\n",
              "      <td>2</td>\n",
              "      <td>0</td>\n",
              "      <td>abnormal</td>\n",
              "      <td>abnormal</td>\n",
              "      <td>notpresent</td>\n",
              "      <td>notpresent</td>\n",
              "      <td>253</td>\n",
              "      <td>...</td>\n",
              "      <td>33</td>\n",
              "      <td>7200</td>\n",
              "      <td>4.3</td>\n",
              "      <td>yes</td>\n",
              "      <td>yes</td>\n",
              "      <td>yes</td>\n",
              "      <td>good</td>\n",
              "      <td>no</td>\n",
              "      <td>no</td>\n",
              "      <td>1</td>\n",
              "    </tr>\n",
              "    <tr>\n",
              "      <th>9</th>\n",
              "      <td>46</td>\n",
              "      <td>60</td>\n",
              "      <td>1.010</td>\n",
              "      <td>1</td>\n",
              "      <td>0</td>\n",
              "      <td>normal</td>\n",
              "      <td>normal</td>\n",
              "      <td>notpresent</td>\n",
              "      <td>notpresent</td>\n",
              "      <td>163</td>\n",
              "      <td>...</td>\n",
              "      <td>28</td>\n",
              "      <td>14600</td>\n",
              "      <td>3.2</td>\n",
              "      <td>yes</td>\n",
              "      <td>yes</td>\n",
              "      <td>no</td>\n",
              "      <td>good</td>\n",
              "      <td>no</td>\n",
              "      <td>no</td>\n",
              "      <td>1</td>\n",
              "    </tr>\n",
              "  </tbody>\n",
              "</table>\n",
              "<p>10 rows × 25 columns</p>\n",
              "</div>\n",
              "    <div class=\"colab-df-buttons\">\n",
              "\n",
              "  <div class=\"colab-df-container\">\n",
              "    <button class=\"colab-df-convert\" onclick=\"convertToInteractive('df-7eb85fb0-ea49-4565-a87a-5ab823e4d592')\"\n",
              "            title=\"Convert this dataframe to an interactive table.\"\n",
              "            style=\"display:none;\">\n",
              "\n",
              "  <svg xmlns=\"http://www.w3.org/2000/svg\" height=\"24px\" viewBox=\"0 -960 960 960\">\n",
              "    <path d=\"M120-120v-720h720v720H120Zm60-500h600v-160H180v160Zm220 220h160v-160H400v160Zm0 220h160v-160H400v160ZM180-400h160v-160H180v160Zm440 0h160v-160H620v160ZM180-180h160v-160H180v160Zm440 0h160v-160H620v160Z\"/>\n",
              "  </svg>\n",
              "    </button>\n",
              "\n",
              "  <style>\n",
              "    .colab-df-container {\n",
              "      display:flex;\n",
              "      gap: 12px;\n",
              "    }\n",
              "\n",
              "    .colab-df-convert {\n",
              "      background-color: #E8F0FE;\n",
              "      border: none;\n",
              "      border-radius: 50%;\n",
              "      cursor: pointer;\n",
              "      display: none;\n",
              "      fill: #1967D2;\n",
              "      height: 32px;\n",
              "      padding: 0 0 0 0;\n",
              "      width: 32px;\n",
              "    }\n",
              "\n",
              "    .colab-df-convert:hover {\n",
              "      background-color: #E2EBFA;\n",
              "      box-shadow: 0px 1px 2px rgba(60, 64, 67, 0.3), 0px 1px 3px 1px rgba(60, 64, 67, 0.15);\n",
              "      fill: #174EA6;\n",
              "    }\n",
              "\n",
              "    .colab-df-buttons div {\n",
              "      margin-bottom: 4px;\n",
              "    }\n",
              "\n",
              "    [theme=dark] .colab-df-convert {\n",
              "      background-color: #3B4455;\n",
              "      fill: #D2E3FC;\n",
              "    }\n",
              "\n",
              "    [theme=dark] .colab-df-convert:hover {\n",
              "      background-color: #434B5C;\n",
              "      box-shadow: 0px 1px 3px 1px rgba(0, 0, 0, 0.15);\n",
              "      filter: drop-shadow(0px 1px 2px rgba(0, 0, 0, 0.3));\n",
              "      fill: #FFFFFF;\n",
              "    }\n",
              "  </style>\n",
              "\n",
              "    <script>\n",
              "      const buttonEl =\n",
              "        document.querySelector('#df-7eb85fb0-ea49-4565-a87a-5ab823e4d592 button.colab-df-convert');\n",
              "      buttonEl.style.display =\n",
              "        google.colab.kernel.accessAllowed ? 'block' : 'none';\n",
              "\n",
              "      async function convertToInteractive(key) {\n",
              "        const element = document.querySelector('#df-7eb85fb0-ea49-4565-a87a-5ab823e4d592');\n",
              "        const dataTable =\n",
              "          await google.colab.kernel.invokeFunction('convertToInteractive',\n",
              "                                                    [key], {});\n",
              "        if (!dataTable) return;\n",
              "\n",
              "        const docLinkHtml = 'Like what you see? Visit the ' +\n",
              "          '<a target=\"_blank\" href=https://colab.research.google.com/notebooks/data_table.ipynb>data table notebook</a>'\n",
              "          + ' to learn more about interactive tables.';\n",
              "        element.innerHTML = '';\n",
              "        dataTable['output_type'] = 'display_data';\n",
              "        await google.colab.output.renderOutput(dataTable, element);\n",
              "        const docLink = document.createElement('div');\n",
              "        docLink.innerHTML = docLinkHtml;\n",
              "        element.appendChild(docLink);\n",
              "      }\n",
              "    </script>\n",
              "  </div>\n",
              "\n",
              "\n",
              "<div id=\"df-8a253a3e-80e2-499d-aa00-4ccf4436d87b\">\n",
              "  <button class=\"colab-df-quickchart\" onclick=\"quickchart('df-8a253a3e-80e2-499d-aa00-4ccf4436d87b')\"\n",
              "            title=\"Suggest charts.\"\n",
              "            style=\"display:none;\">\n",
              "\n",
              "<svg xmlns=\"http://www.w3.org/2000/svg\" height=\"24px\"viewBox=\"0 0 24 24\"\n",
              "     width=\"24px\">\n",
              "    <g>\n",
              "        <path d=\"M19 3H5c-1.1 0-2 .9-2 2v14c0 1.1.9 2 2 2h14c1.1 0 2-.9 2-2V5c0-1.1-.9-2-2-2zM9 17H7v-7h2v7zm4 0h-2V7h2v10zm4 0h-2v-4h2v4z\"/>\n",
              "    </g>\n",
              "</svg>\n",
              "  </button>\n",
              "\n",
              "<style>\n",
              "  .colab-df-quickchart {\n",
              "      --bg-color: #E8F0FE;\n",
              "      --fill-color: #1967D2;\n",
              "      --hover-bg-color: #E2EBFA;\n",
              "      --hover-fill-color: #174EA6;\n",
              "      --disabled-fill-color: #AAA;\n",
              "      --disabled-bg-color: #DDD;\n",
              "  }\n",
              "\n",
              "  [theme=dark] .colab-df-quickchart {\n",
              "      --bg-color: #3B4455;\n",
              "      --fill-color: #D2E3FC;\n",
              "      --hover-bg-color: #434B5C;\n",
              "      --hover-fill-color: #FFFFFF;\n",
              "      --disabled-bg-color: #3B4455;\n",
              "      --disabled-fill-color: #666;\n",
              "  }\n",
              "\n",
              "  .colab-df-quickchart {\n",
              "    background-color: var(--bg-color);\n",
              "    border: none;\n",
              "    border-radius: 50%;\n",
              "    cursor: pointer;\n",
              "    display: none;\n",
              "    fill: var(--fill-color);\n",
              "    height: 32px;\n",
              "    padding: 0;\n",
              "    width: 32px;\n",
              "  }\n",
              "\n",
              "  .colab-df-quickchart:hover {\n",
              "    background-color: var(--hover-bg-color);\n",
              "    box-shadow: 0 1px 2px rgba(60, 64, 67, 0.3), 0 1px 3px 1px rgba(60, 64, 67, 0.15);\n",
              "    fill: var(--button-hover-fill-color);\n",
              "  }\n",
              "\n",
              "  .colab-df-quickchart-complete:disabled,\n",
              "  .colab-df-quickchart-complete:disabled:hover {\n",
              "    background-color: var(--disabled-bg-color);\n",
              "    fill: var(--disabled-fill-color);\n",
              "    box-shadow: none;\n",
              "  }\n",
              "\n",
              "  .colab-df-spinner {\n",
              "    border: 2px solid var(--fill-color);\n",
              "    border-color: transparent;\n",
              "    border-bottom-color: var(--fill-color);\n",
              "    animation:\n",
              "      spin 1s steps(1) infinite;\n",
              "  }\n",
              "\n",
              "  @keyframes spin {\n",
              "    0% {\n",
              "      border-color: transparent;\n",
              "      border-bottom-color: var(--fill-color);\n",
              "      border-left-color: var(--fill-color);\n",
              "    }\n",
              "    20% {\n",
              "      border-color: transparent;\n",
              "      border-left-color: var(--fill-color);\n",
              "      border-top-color: var(--fill-color);\n",
              "    }\n",
              "    30% {\n",
              "      border-color: transparent;\n",
              "      border-left-color: var(--fill-color);\n",
              "      border-top-color: var(--fill-color);\n",
              "      border-right-color: var(--fill-color);\n",
              "    }\n",
              "    40% {\n",
              "      border-color: transparent;\n",
              "      border-right-color: var(--fill-color);\n",
              "      border-top-color: var(--fill-color);\n",
              "    }\n",
              "    60% {\n",
              "      border-color: transparent;\n",
              "      border-right-color: var(--fill-color);\n",
              "    }\n",
              "    80% {\n",
              "      border-color: transparent;\n",
              "      border-right-color: var(--fill-color);\n",
              "      border-bottom-color: var(--fill-color);\n",
              "    }\n",
              "    90% {\n",
              "      border-color: transparent;\n",
              "      border-bottom-color: var(--fill-color);\n",
              "    }\n",
              "  }\n",
              "</style>\n",
              "\n",
              "  <script>\n",
              "    async function quickchart(key) {\n",
              "      const quickchartButtonEl =\n",
              "        document.querySelector('#' + key + ' button');\n",
              "      quickchartButtonEl.disabled = true;  // To prevent multiple clicks.\n",
              "      quickchartButtonEl.classList.add('colab-df-spinner');\n",
              "      try {\n",
              "        const charts = await google.colab.kernel.invokeFunction(\n",
              "            'suggestCharts', [key], {});\n",
              "      } catch (error) {\n",
              "        console.error('Error during call to suggestCharts:', error);\n",
              "      }\n",
              "      quickchartButtonEl.classList.remove('colab-df-spinner');\n",
              "      quickchartButtonEl.classList.add('colab-df-quickchart-complete');\n",
              "    }\n",
              "    (() => {\n",
              "      let quickchartButtonEl =\n",
              "        document.querySelector('#df-8a253a3e-80e2-499d-aa00-4ccf4436d87b button');\n",
              "      quickchartButtonEl.style.display =\n",
              "        google.colab.kernel.accessAllowed ? 'block' : 'none';\n",
              "    })();\n",
              "  </script>\n",
              "</div>\n",
              "    </div>\n",
              "  </div>\n"
            ]
          },
          "metadata": {},
          "execution_count": 84
        }
      ],
      "source": [
        "# Defining dataset and reading our 'csv' file into a pandas dataframe to help with viewing the contnet in the dataset\n",
        "\n",
        "# Naming dataset to be 'dset'\n",
        "\n",
        "dset = pd.read_csv(\"ckd.csv\")\n",
        "\n",
        "# The above code explains that; \"dataframe.head(10)\"gives up to 10 rows of our dataframe.\n",
        "\n",
        "dset.head(10)\n",
        "\n",
        "# A look at the chronic kidney disease dataset after reading it."
      ]
    },
    {
      "cell_type": "markdown",
      "metadata": {
        "id": "r-lrmwBvKhEG"
      },
      "source": [
        "- From the cell above, we could tell that our dataset contains columns representing 25 attributes of each unique single patients tested."
      ]
    },
    {
      "cell_type": "markdown",
      "metadata": {
        "id": "T_zQS9CXtxGT"
      },
      "source": [
        "# Performing Exloratory Data Analysis (EDA) on dataset\n",
        "Performing EDA on our ckd dataset will aid us to explore the dataframe and to further know what structures are involved in the dataset. Further, we will find out from our dataset if there are any missing values. This phase will bring to light patterns that are present in our dataset.\n",
        "EDA will help to make the dataset more comprehensible. We will do some data visualization as part of our explotatory data analysis process in learning  and extracting more information about the dataset."
      ]
    },
    {
      "cell_type": "code",
      "execution_count": 85,
      "metadata": {
        "colab": {
          "base_uri": "https://localhost:8080/"
        },
        "id": "Zn3NsrGdt8cq",
        "outputId": "c6413714-c8e2-472f-e0ac-c48f42be5fbf"
      },
      "outputs": [
        {
          "output_type": "execute_result",
          "data": {
            "text/plain": [
              "Index(['Age', 'Blood Pressure', 'Specific Gravity', 'Albumin', 'Sugar',\n",
              "       'Red Blood Cells', 'Pus Cell', 'Pus Cell clumps', 'Bacteria',\n",
              "       'Blood Glucose Random', 'Blood Urea', 'Serum Creatinine', 'Sodium',\n",
              "       'Potassium', 'Hemoglobin', 'Packed Cell Volume',\n",
              "       'White Blood Cell Count', 'Red Blood Cell Count', 'Hypertension',\n",
              "       'Diabetes Mellitus', 'Coronary Artery Disease', 'Appetite',\n",
              "       'Pedal Edema', 'Anemia', 'Class'],\n",
              "      dtype='object')"
            ]
          },
          "metadata": {},
          "execution_count": 85
        }
      ],
      "source": [
        "# Getting all columns present in the dataframe\n",
        "\n",
        "dset.columns"
      ]
    },
    {
      "cell_type": "code",
      "execution_count": 86,
      "metadata": {
        "id": "x3sFHtgZKhEH",
        "outputId": "1e6104dc-18cf-4a48-af9a-699652a3018d",
        "colab": {
          "base_uri": "https://localhost:8080/"
        }
      },
      "outputs": [
        {
          "output_type": "stream",
          "name": "stdout",
          "text": [
            "Total number of columns: 25\n"
          ]
        }
      ],
      "source": [
        "# Getting the number of total columns in the dataset\n",
        "\n",
        "num_columns = dset.shape[1]\n",
        "print(\"Total number of columns:\", num_columns)\n",
        "\n",
        "# Output will give sum of total columns present in dataframe"
      ]
    },
    {
      "cell_type": "code",
      "execution_count": 87,
      "metadata": {
        "colab": {
          "base_uri": "https://localhost:8080/"
        },
        "id": "rtwL9wC2uKTs",
        "outputId": "7ff8c441-eafd-48f8-b49d-972241e85f41"
      },
      "outputs": [
        {
          "output_type": "execute_result",
          "data": {
            "text/plain": [
              "158"
            ]
          },
          "metadata": {},
          "execution_count": 87
        }
      ],
      "source": [
        "# Getting sum of rows contained in dataframe\n",
        "\n",
        "len(dset)"
      ]
    },
    {
      "cell_type": "code",
      "execution_count": 88,
      "metadata": {
        "id": "TudXdBogFZ9-",
        "scrolled": true,
        "outputId": "f41990ea-9882-4064-effe-f6d087422bdd",
        "colab": {
          "base_uri": "https://localhost:8080/",
          "height": 478
        }
      },
      "outputs": [
        {
          "output_type": "execute_result",
          "data": {
            "text/plain": [
              "               Age  Blood Pressure  Specific Gravity     Albumin       Sugar  \\\n",
              "count   158.000000      158.000000        158.000000  158.000000  158.000000   \n",
              "unique         NaN             NaN               NaN         NaN         NaN   \n",
              "top            NaN             NaN               NaN         NaN         NaN   \n",
              "freq           NaN             NaN               NaN         NaN         NaN   \n",
              "mean     49.563291       74.050633          1.019873    0.797468    0.253165   \n",
              "std      15.512244       11.175381          0.005499    1.413130    0.813397   \n",
              "min       6.000000       50.000000          1.005000    0.000000    0.000000   \n",
              "25%      39.250000       60.000000          1.020000    0.000000    0.000000   \n",
              "50%      50.500000       80.000000          1.020000    0.000000    0.000000   \n",
              "75%      60.000000       80.000000          1.025000    1.000000    0.000000   \n",
              "max      83.000000      110.000000          1.025000    4.000000    5.000000   \n",
              "\n",
              "       Red Blood Cells Pus Cell Pus Cell clumps    Bacteria  \\\n",
              "count              158      158             158         158   \n",
              "unique               2        2               2           2   \n",
              "top             normal   normal      notpresent  notpresent   \n",
              "freq               140      129             144         146   \n",
              "mean               NaN      NaN             NaN         NaN   \n",
              "std                NaN      NaN             NaN         NaN   \n",
              "min                NaN      NaN             NaN         NaN   \n",
              "25%                NaN      NaN             NaN         NaN   \n",
              "50%                NaN      NaN             NaN         NaN   \n",
              "75%                NaN      NaN             NaN         NaN   \n",
              "max                NaN      NaN             NaN         NaN   \n",
              "\n",
              "        Blood Glucose Random  ...  Packed Cell Volume  White Blood Cell Count  \\\n",
              "count             158.000000  ...          158.000000              158.000000   \n",
              "unique                   NaN  ...                 NaN                     NaN   \n",
              "top                      NaN  ...                 NaN                     NaN   \n",
              "freq                     NaN  ...                 NaN                     NaN   \n",
              "mean              131.341772  ...           41.917722             8475.949367   \n",
              "std                64.939832  ...            9.105164             3126.880181   \n",
              "min                70.000000  ...            9.000000             3800.000000   \n",
              "25%                97.000000  ...           37.500000             6525.000000   \n",
              "50%               115.500000  ...           44.000000             7800.000000   \n",
              "75%               131.750000  ...           48.000000             9775.000000   \n",
              "max               490.000000  ...           54.000000            26400.000000   \n",
              "\n",
              "        Red Blood Cell Count  Hypertension  Diabetes Mellitus  \\\n",
              "count             158.000000           158                158   \n",
              "unique                   NaN             2                  2   \n",
              "top                      NaN            no                 no   \n",
              "freq                     NaN           124                130   \n",
              "mean                4.891772           NaN                NaN   \n",
              "std                 1.019364           NaN                NaN   \n",
              "min                 2.100000           NaN                NaN   \n",
              "25%                 4.500000           NaN                NaN   \n",
              "50%                 4.950000           NaN                NaN   \n",
              "75%                 5.600000           NaN                NaN   \n",
              "max                 8.000000           NaN                NaN   \n",
              "\n",
              "        Coronary Artery Disease  Appetite  Pedal Edema Anemia       Class  \n",
              "count                       158       158          158    158  158.000000  \n",
              "unique                        2         2            2      2         NaN  \n",
              "top                          no      good           no     no         NaN  \n",
              "freq                        147       139          138    142         NaN  \n",
              "mean                        NaN       NaN          NaN    NaN    0.272152  \n",
              "std                         NaN       NaN          NaN    NaN    0.446483  \n",
              "min                         NaN       NaN          NaN    NaN    0.000000  \n",
              "25%                         NaN       NaN          NaN    NaN    0.000000  \n",
              "50%                         NaN       NaN          NaN    NaN    0.000000  \n",
              "75%                         NaN       NaN          NaN    NaN    1.000000  \n",
              "max                         NaN       NaN          NaN    NaN    1.000000  \n",
              "\n",
              "[11 rows x 25 columns]"
            ],
            "text/html": [
              "\n",
              "  <div id=\"df-8b29ff96-50bc-45f5-a09a-d2aa7e5dcdd8\" class=\"colab-df-container\">\n",
              "    <div>\n",
              "<style scoped>\n",
              "    .dataframe tbody tr th:only-of-type {\n",
              "        vertical-align: middle;\n",
              "    }\n",
              "\n",
              "    .dataframe tbody tr th {\n",
              "        vertical-align: top;\n",
              "    }\n",
              "\n",
              "    .dataframe thead th {\n",
              "        text-align: right;\n",
              "    }\n",
              "</style>\n",
              "<table border=\"1\" class=\"dataframe\">\n",
              "  <thead>\n",
              "    <tr style=\"text-align: right;\">\n",
              "      <th></th>\n",
              "      <th>Age</th>\n",
              "      <th>Blood Pressure</th>\n",
              "      <th>Specific Gravity</th>\n",
              "      <th>Albumin</th>\n",
              "      <th>Sugar</th>\n",
              "      <th>Red Blood Cells</th>\n",
              "      <th>Pus Cell</th>\n",
              "      <th>Pus Cell clumps</th>\n",
              "      <th>Bacteria</th>\n",
              "      <th>Blood Glucose Random</th>\n",
              "      <th>...</th>\n",
              "      <th>Packed Cell Volume</th>\n",
              "      <th>White Blood Cell Count</th>\n",
              "      <th>Red Blood Cell Count</th>\n",
              "      <th>Hypertension</th>\n",
              "      <th>Diabetes Mellitus</th>\n",
              "      <th>Coronary Artery Disease</th>\n",
              "      <th>Appetite</th>\n",
              "      <th>Pedal Edema</th>\n",
              "      <th>Anemia</th>\n",
              "      <th>Class</th>\n",
              "    </tr>\n",
              "  </thead>\n",
              "  <tbody>\n",
              "    <tr>\n",
              "      <th>count</th>\n",
              "      <td>158.000000</td>\n",
              "      <td>158.000000</td>\n",
              "      <td>158.000000</td>\n",
              "      <td>158.000000</td>\n",
              "      <td>158.000000</td>\n",
              "      <td>158</td>\n",
              "      <td>158</td>\n",
              "      <td>158</td>\n",
              "      <td>158</td>\n",
              "      <td>158.000000</td>\n",
              "      <td>...</td>\n",
              "      <td>158.000000</td>\n",
              "      <td>158.000000</td>\n",
              "      <td>158.000000</td>\n",
              "      <td>158</td>\n",
              "      <td>158</td>\n",
              "      <td>158</td>\n",
              "      <td>158</td>\n",
              "      <td>158</td>\n",
              "      <td>158</td>\n",
              "      <td>158.000000</td>\n",
              "    </tr>\n",
              "    <tr>\n",
              "      <th>unique</th>\n",
              "      <td>NaN</td>\n",
              "      <td>NaN</td>\n",
              "      <td>NaN</td>\n",
              "      <td>NaN</td>\n",
              "      <td>NaN</td>\n",
              "      <td>2</td>\n",
              "      <td>2</td>\n",
              "      <td>2</td>\n",
              "      <td>2</td>\n",
              "      <td>NaN</td>\n",
              "      <td>...</td>\n",
              "      <td>NaN</td>\n",
              "      <td>NaN</td>\n",
              "      <td>NaN</td>\n",
              "      <td>2</td>\n",
              "      <td>2</td>\n",
              "      <td>2</td>\n",
              "      <td>2</td>\n",
              "      <td>2</td>\n",
              "      <td>2</td>\n",
              "      <td>NaN</td>\n",
              "    </tr>\n",
              "    <tr>\n",
              "      <th>top</th>\n",
              "      <td>NaN</td>\n",
              "      <td>NaN</td>\n",
              "      <td>NaN</td>\n",
              "      <td>NaN</td>\n",
              "      <td>NaN</td>\n",
              "      <td>normal</td>\n",
              "      <td>normal</td>\n",
              "      <td>notpresent</td>\n",
              "      <td>notpresent</td>\n",
              "      <td>NaN</td>\n",
              "      <td>...</td>\n",
              "      <td>NaN</td>\n",
              "      <td>NaN</td>\n",
              "      <td>NaN</td>\n",
              "      <td>no</td>\n",
              "      <td>no</td>\n",
              "      <td>no</td>\n",
              "      <td>good</td>\n",
              "      <td>no</td>\n",
              "      <td>no</td>\n",
              "      <td>NaN</td>\n",
              "    </tr>\n",
              "    <tr>\n",
              "      <th>freq</th>\n",
              "      <td>NaN</td>\n",
              "      <td>NaN</td>\n",
              "      <td>NaN</td>\n",
              "      <td>NaN</td>\n",
              "      <td>NaN</td>\n",
              "      <td>140</td>\n",
              "      <td>129</td>\n",
              "      <td>144</td>\n",
              "      <td>146</td>\n",
              "      <td>NaN</td>\n",
              "      <td>...</td>\n",
              "      <td>NaN</td>\n",
              "      <td>NaN</td>\n",
              "      <td>NaN</td>\n",
              "      <td>124</td>\n",
              "      <td>130</td>\n",
              "      <td>147</td>\n",
              "      <td>139</td>\n",
              "      <td>138</td>\n",
              "      <td>142</td>\n",
              "      <td>NaN</td>\n",
              "    </tr>\n",
              "    <tr>\n",
              "      <th>mean</th>\n",
              "      <td>49.563291</td>\n",
              "      <td>74.050633</td>\n",
              "      <td>1.019873</td>\n",
              "      <td>0.797468</td>\n",
              "      <td>0.253165</td>\n",
              "      <td>NaN</td>\n",
              "      <td>NaN</td>\n",
              "      <td>NaN</td>\n",
              "      <td>NaN</td>\n",
              "      <td>131.341772</td>\n",
              "      <td>...</td>\n",
              "      <td>41.917722</td>\n",
              "      <td>8475.949367</td>\n",
              "      <td>4.891772</td>\n",
              "      <td>NaN</td>\n",
              "      <td>NaN</td>\n",
              "      <td>NaN</td>\n",
              "      <td>NaN</td>\n",
              "      <td>NaN</td>\n",
              "      <td>NaN</td>\n",
              "      <td>0.272152</td>\n",
              "    </tr>\n",
              "    <tr>\n",
              "      <th>std</th>\n",
              "      <td>15.512244</td>\n",
              "      <td>11.175381</td>\n",
              "      <td>0.005499</td>\n",
              "      <td>1.413130</td>\n",
              "      <td>0.813397</td>\n",
              "      <td>NaN</td>\n",
              "      <td>NaN</td>\n",
              "      <td>NaN</td>\n",
              "      <td>NaN</td>\n",
              "      <td>64.939832</td>\n",
              "      <td>...</td>\n",
              "      <td>9.105164</td>\n",
              "      <td>3126.880181</td>\n",
              "      <td>1.019364</td>\n",
              "      <td>NaN</td>\n",
              "      <td>NaN</td>\n",
              "      <td>NaN</td>\n",
              "      <td>NaN</td>\n",
              "      <td>NaN</td>\n",
              "      <td>NaN</td>\n",
              "      <td>0.446483</td>\n",
              "    </tr>\n",
              "    <tr>\n",
              "      <th>min</th>\n",
              "      <td>6.000000</td>\n",
              "      <td>50.000000</td>\n",
              "      <td>1.005000</td>\n",
              "      <td>0.000000</td>\n",
              "      <td>0.000000</td>\n",
              "      <td>NaN</td>\n",
              "      <td>NaN</td>\n",
              "      <td>NaN</td>\n",
              "      <td>NaN</td>\n",
              "      <td>70.000000</td>\n",
              "      <td>...</td>\n",
              "      <td>9.000000</td>\n",
              "      <td>3800.000000</td>\n",
              "      <td>2.100000</td>\n",
              "      <td>NaN</td>\n",
              "      <td>NaN</td>\n",
              "      <td>NaN</td>\n",
              "      <td>NaN</td>\n",
              "      <td>NaN</td>\n",
              "      <td>NaN</td>\n",
              "      <td>0.000000</td>\n",
              "    </tr>\n",
              "    <tr>\n",
              "      <th>25%</th>\n",
              "      <td>39.250000</td>\n",
              "      <td>60.000000</td>\n",
              "      <td>1.020000</td>\n",
              "      <td>0.000000</td>\n",
              "      <td>0.000000</td>\n",
              "      <td>NaN</td>\n",
              "      <td>NaN</td>\n",
              "      <td>NaN</td>\n",
              "      <td>NaN</td>\n",
              "      <td>97.000000</td>\n",
              "      <td>...</td>\n",
              "      <td>37.500000</td>\n",
              "      <td>6525.000000</td>\n",
              "      <td>4.500000</td>\n",
              "      <td>NaN</td>\n",
              "      <td>NaN</td>\n",
              "      <td>NaN</td>\n",
              "      <td>NaN</td>\n",
              "      <td>NaN</td>\n",
              "      <td>NaN</td>\n",
              "      <td>0.000000</td>\n",
              "    </tr>\n",
              "    <tr>\n",
              "      <th>50%</th>\n",
              "      <td>50.500000</td>\n",
              "      <td>80.000000</td>\n",
              "      <td>1.020000</td>\n",
              "      <td>0.000000</td>\n",
              "      <td>0.000000</td>\n",
              "      <td>NaN</td>\n",
              "      <td>NaN</td>\n",
              "      <td>NaN</td>\n",
              "      <td>NaN</td>\n",
              "      <td>115.500000</td>\n",
              "      <td>...</td>\n",
              "      <td>44.000000</td>\n",
              "      <td>7800.000000</td>\n",
              "      <td>4.950000</td>\n",
              "      <td>NaN</td>\n",
              "      <td>NaN</td>\n",
              "      <td>NaN</td>\n",
              "      <td>NaN</td>\n",
              "      <td>NaN</td>\n",
              "      <td>NaN</td>\n",
              "      <td>0.000000</td>\n",
              "    </tr>\n",
              "    <tr>\n",
              "      <th>75%</th>\n",
              "      <td>60.000000</td>\n",
              "      <td>80.000000</td>\n",
              "      <td>1.025000</td>\n",
              "      <td>1.000000</td>\n",
              "      <td>0.000000</td>\n",
              "      <td>NaN</td>\n",
              "      <td>NaN</td>\n",
              "      <td>NaN</td>\n",
              "      <td>NaN</td>\n",
              "      <td>131.750000</td>\n",
              "      <td>...</td>\n",
              "      <td>48.000000</td>\n",
              "      <td>9775.000000</td>\n",
              "      <td>5.600000</td>\n",
              "      <td>NaN</td>\n",
              "      <td>NaN</td>\n",
              "      <td>NaN</td>\n",
              "      <td>NaN</td>\n",
              "      <td>NaN</td>\n",
              "      <td>NaN</td>\n",
              "      <td>1.000000</td>\n",
              "    </tr>\n",
              "    <tr>\n",
              "      <th>max</th>\n",
              "      <td>83.000000</td>\n",
              "      <td>110.000000</td>\n",
              "      <td>1.025000</td>\n",
              "      <td>4.000000</td>\n",
              "      <td>5.000000</td>\n",
              "      <td>NaN</td>\n",
              "      <td>NaN</td>\n",
              "      <td>NaN</td>\n",
              "      <td>NaN</td>\n",
              "      <td>490.000000</td>\n",
              "      <td>...</td>\n",
              "      <td>54.000000</td>\n",
              "      <td>26400.000000</td>\n",
              "      <td>8.000000</td>\n",
              "      <td>NaN</td>\n",
              "      <td>NaN</td>\n",
              "      <td>NaN</td>\n",
              "      <td>NaN</td>\n",
              "      <td>NaN</td>\n",
              "      <td>NaN</td>\n",
              "      <td>1.000000</td>\n",
              "    </tr>\n",
              "  </tbody>\n",
              "</table>\n",
              "<p>11 rows × 25 columns</p>\n",
              "</div>\n",
              "    <div class=\"colab-df-buttons\">\n",
              "\n",
              "  <div class=\"colab-df-container\">\n",
              "    <button class=\"colab-df-convert\" onclick=\"convertToInteractive('df-8b29ff96-50bc-45f5-a09a-d2aa7e5dcdd8')\"\n",
              "            title=\"Convert this dataframe to an interactive table.\"\n",
              "            style=\"display:none;\">\n",
              "\n",
              "  <svg xmlns=\"http://www.w3.org/2000/svg\" height=\"24px\" viewBox=\"0 -960 960 960\">\n",
              "    <path d=\"M120-120v-720h720v720H120Zm60-500h600v-160H180v160Zm220 220h160v-160H400v160Zm0 220h160v-160H400v160ZM180-400h160v-160H180v160Zm440 0h160v-160H620v160ZM180-180h160v-160H180v160Zm440 0h160v-160H620v160Z\"/>\n",
              "  </svg>\n",
              "    </button>\n",
              "\n",
              "  <style>\n",
              "    .colab-df-container {\n",
              "      display:flex;\n",
              "      gap: 12px;\n",
              "    }\n",
              "\n",
              "    .colab-df-convert {\n",
              "      background-color: #E8F0FE;\n",
              "      border: none;\n",
              "      border-radius: 50%;\n",
              "      cursor: pointer;\n",
              "      display: none;\n",
              "      fill: #1967D2;\n",
              "      height: 32px;\n",
              "      padding: 0 0 0 0;\n",
              "      width: 32px;\n",
              "    }\n",
              "\n",
              "    .colab-df-convert:hover {\n",
              "      background-color: #E2EBFA;\n",
              "      box-shadow: 0px 1px 2px rgba(60, 64, 67, 0.3), 0px 1px 3px 1px rgba(60, 64, 67, 0.15);\n",
              "      fill: #174EA6;\n",
              "    }\n",
              "\n",
              "    .colab-df-buttons div {\n",
              "      margin-bottom: 4px;\n",
              "    }\n",
              "\n",
              "    [theme=dark] .colab-df-convert {\n",
              "      background-color: #3B4455;\n",
              "      fill: #D2E3FC;\n",
              "    }\n",
              "\n",
              "    [theme=dark] .colab-df-convert:hover {\n",
              "      background-color: #434B5C;\n",
              "      box-shadow: 0px 1px 3px 1px rgba(0, 0, 0, 0.15);\n",
              "      filter: drop-shadow(0px 1px 2px rgba(0, 0, 0, 0.3));\n",
              "      fill: #FFFFFF;\n",
              "    }\n",
              "  </style>\n",
              "\n",
              "    <script>\n",
              "      const buttonEl =\n",
              "        document.querySelector('#df-8b29ff96-50bc-45f5-a09a-d2aa7e5dcdd8 button.colab-df-convert');\n",
              "      buttonEl.style.display =\n",
              "        google.colab.kernel.accessAllowed ? 'block' : 'none';\n",
              "\n",
              "      async function convertToInteractive(key) {\n",
              "        const element = document.querySelector('#df-8b29ff96-50bc-45f5-a09a-d2aa7e5dcdd8');\n",
              "        const dataTable =\n",
              "          await google.colab.kernel.invokeFunction('convertToInteractive',\n",
              "                                                    [key], {});\n",
              "        if (!dataTable) return;\n",
              "\n",
              "        const docLinkHtml = 'Like what you see? Visit the ' +\n",
              "          '<a target=\"_blank\" href=https://colab.research.google.com/notebooks/data_table.ipynb>data table notebook</a>'\n",
              "          + ' to learn more about interactive tables.';\n",
              "        element.innerHTML = '';\n",
              "        dataTable['output_type'] = 'display_data';\n",
              "        await google.colab.output.renderOutput(dataTable, element);\n",
              "        const docLink = document.createElement('div');\n",
              "        docLink.innerHTML = docLinkHtml;\n",
              "        element.appendChild(docLink);\n",
              "      }\n",
              "    </script>\n",
              "  </div>\n",
              "\n",
              "\n",
              "<div id=\"df-366a93b9-66db-45f9-a95f-239b79b8bdd6\">\n",
              "  <button class=\"colab-df-quickchart\" onclick=\"quickchart('df-366a93b9-66db-45f9-a95f-239b79b8bdd6')\"\n",
              "            title=\"Suggest charts.\"\n",
              "            style=\"display:none;\">\n",
              "\n",
              "<svg xmlns=\"http://www.w3.org/2000/svg\" height=\"24px\"viewBox=\"0 0 24 24\"\n",
              "     width=\"24px\">\n",
              "    <g>\n",
              "        <path d=\"M19 3H5c-1.1 0-2 .9-2 2v14c0 1.1.9 2 2 2h14c1.1 0 2-.9 2-2V5c0-1.1-.9-2-2-2zM9 17H7v-7h2v7zm4 0h-2V7h2v10zm4 0h-2v-4h2v4z\"/>\n",
              "    </g>\n",
              "</svg>\n",
              "  </button>\n",
              "\n",
              "<style>\n",
              "  .colab-df-quickchart {\n",
              "      --bg-color: #E8F0FE;\n",
              "      --fill-color: #1967D2;\n",
              "      --hover-bg-color: #E2EBFA;\n",
              "      --hover-fill-color: #174EA6;\n",
              "      --disabled-fill-color: #AAA;\n",
              "      --disabled-bg-color: #DDD;\n",
              "  }\n",
              "\n",
              "  [theme=dark] .colab-df-quickchart {\n",
              "      --bg-color: #3B4455;\n",
              "      --fill-color: #D2E3FC;\n",
              "      --hover-bg-color: #434B5C;\n",
              "      --hover-fill-color: #FFFFFF;\n",
              "      --disabled-bg-color: #3B4455;\n",
              "      --disabled-fill-color: #666;\n",
              "  }\n",
              "\n",
              "  .colab-df-quickchart {\n",
              "    background-color: var(--bg-color);\n",
              "    border: none;\n",
              "    border-radius: 50%;\n",
              "    cursor: pointer;\n",
              "    display: none;\n",
              "    fill: var(--fill-color);\n",
              "    height: 32px;\n",
              "    padding: 0;\n",
              "    width: 32px;\n",
              "  }\n",
              "\n",
              "  .colab-df-quickchart:hover {\n",
              "    background-color: var(--hover-bg-color);\n",
              "    box-shadow: 0 1px 2px rgba(60, 64, 67, 0.3), 0 1px 3px 1px rgba(60, 64, 67, 0.15);\n",
              "    fill: var(--button-hover-fill-color);\n",
              "  }\n",
              "\n",
              "  .colab-df-quickchart-complete:disabled,\n",
              "  .colab-df-quickchart-complete:disabled:hover {\n",
              "    background-color: var(--disabled-bg-color);\n",
              "    fill: var(--disabled-fill-color);\n",
              "    box-shadow: none;\n",
              "  }\n",
              "\n",
              "  .colab-df-spinner {\n",
              "    border: 2px solid var(--fill-color);\n",
              "    border-color: transparent;\n",
              "    border-bottom-color: var(--fill-color);\n",
              "    animation:\n",
              "      spin 1s steps(1) infinite;\n",
              "  }\n",
              "\n",
              "  @keyframes spin {\n",
              "    0% {\n",
              "      border-color: transparent;\n",
              "      border-bottom-color: var(--fill-color);\n",
              "      border-left-color: var(--fill-color);\n",
              "    }\n",
              "    20% {\n",
              "      border-color: transparent;\n",
              "      border-left-color: var(--fill-color);\n",
              "      border-top-color: var(--fill-color);\n",
              "    }\n",
              "    30% {\n",
              "      border-color: transparent;\n",
              "      border-left-color: var(--fill-color);\n",
              "      border-top-color: var(--fill-color);\n",
              "      border-right-color: var(--fill-color);\n",
              "    }\n",
              "    40% {\n",
              "      border-color: transparent;\n",
              "      border-right-color: var(--fill-color);\n",
              "      border-top-color: var(--fill-color);\n",
              "    }\n",
              "    60% {\n",
              "      border-color: transparent;\n",
              "      border-right-color: var(--fill-color);\n",
              "    }\n",
              "    80% {\n",
              "      border-color: transparent;\n",
              "      border-right-color: var(--fill-color);\n",
              "      border-bottom-color: var(--fill-color);\n",
              "    }\n",
              "    90% {\n",
              "      border-color: transparent;\n",
              "      border-bottom-color: var(--fill-color);\n",
              "    }\n",
              "  }\n",
              "</style>\n",
              "\n",
              "  <script>\n",
              "    async function quickchart(key) {\n",
              "      const quickchartButtonEl =\n",
              "        document.querySelector('#' + key + ' button');\n",
              "      quickchartButtonEl.disabled = true;  // To prevent multiple clicks.\n",
              "      quickchartButtonEl.classList.add('colab-df-spinner');\n",
              "      try {\n",
              "        const charts = await google.colab.kernel.invokeFunction(\n",
              "            'suggestCharts', [key], {});\n",
              "      } catch (error) {\n",
              "        console.error('Error during call to suggestCharts:', error);\n",
              "      }\n",
              "      quickchartButtonEl.classList.remove('colab-df-spinner');\n",
              "      quickchartButtonEl.classList.add('colab-df-quickchart-complete');\n",
              "    }\n",
              "    (() => {\n",
              "      let quickchartButtonEl =\n",
              "        document.querySelector('#df-366a93b9-66db-45f9-a95f-239b79b8bdd6 button');\n",
              "      quickchartButtonEl.style.display =\n",
              "        google.colab.kernel.accessAllowed ? 'block' : 'none';\n",
              "    })();\n",
              "  </script>\n",
              "</div>\n",
              "    </div>\n",
              "  </div>\n"
            ]
          },
          "metadata": {},
          "execution_count": 88
        }
      ],
      "source": [
        "# Learning about the desciptive statistics of our dataset\n",
        "\n",
        "dset.describe(include='all')    # This code will output the summary statistics of all columns in the dataset\n"
      ]
    },
    {
      "cell_type": "markdown",
      "metadata": {
        "id": "37m24p8HKhEH"
      },
      "source": [
        "Using the **.info()** function to retrieve relevant information contained in our chronic kidney disease dataset.\n",
        "This .info() function will display;\n",
        "- Total enteries present in dataset\n",
        "- The range of index of dataset\n",
        "- Names of columns present in dataset\n",
        "- The number of non-missing values\n",
        "- The dtype (data type) of each column\n",
        "- The memory usage of the dataset\n",
        "- Total columns present in the dataset\n"
      ]
    },
    {
      "cell_type": "markdown",
      "source": [
        "See output of code below"
      ],
      "metadata": {
        "id": "C8j_2c5fEksH"
      }
    },
    {
      "cell_type": "code",
      "execution_count": 89,
      "metadata": {
        "id": "-KqRIksnKhEH",
        "outputId": "ae1cd57f-0c2a-471f-eb75-dd18f389a73e",
        "colab": {
          "base_uri": "https://localhost:8080/"
        }
      },
      "outputs": [
        {
          "output_type": "stream",
          "name": "stdout",
          "text": [
            "<class 'pandas.core.frame.DataFrame'>\n",
            "RangeIndex: 158 entries, 0 to 157\n",
            "Data columns (total 25 columns):\n",
            " #   Column                   Non-Null Count  Dtype  \n",
            "---  ------                   --------------  -----  \n",
            " 0   Age                      158 non-null    int64  \n",
            " 1   Blood Pressure           158 non-null    int64  \n",
            " 2   Specific Gravity         158 non-null    float64\n",
            " 3   Albumin                  158 non-null    int64  \n",
            " 4   Sugar                    158 non-null    int64  \n",
            " 5   Red Blood Cells          158 non-null    object \n",
            " 6   Pus Cell                 158 non-null    object \n",
            " 7   Pus Cell clumps          158 non-null    object \n",
            " 8   Bacteria                 158 non-null    object \n",
            " 9   Blood Glucose Random     158 non-null    int64  \n",
            " 10  Blood Urea               158 non-null    int64  \n",
            " 11  Serum Creatinine         158 non-null    float64\n",
            " 12  Sodium                   158 non-null    int64  \n",
            " 13  Potassium                158 non-null    float64\n",
            " 14  Hemoglobin               158 non-null    float64\n",
            " 15  Packed Cell Volume       158 non-null    int64  \n",
            " 16  White Blood Cell Count   158 non-null    int64  \n",
            " 17  Red Blood Cell Count     158 non-null    float64\n",
            " 18  Hypertension             158 non-null    object \n",
            " 19  Diabetes Mellitus        158 non-null    object \n",
            " 20  Coronary Artery Disease  158 non-null    object \n",
            " 21  Appetite                 158 non-null    object \n",
            " 22  Pedal Edema              158 non-null    object \n",
            " 23  Anemia                   158 non-null    object \n",
            " 24  Class                    158 non-null    int64  \n",
            "dtypes: float64(5), int64(10), object(10)\n",
            "memory usage: 31.0+ KB\n"
          ]
        }
      ],
      "source": [
        "dset.info()"
      ]
    },
    {
      "cell_type": "code",
      "execution_count": 90,
      "metadata": {
        "id": "3fPTpw_jKhEH",
        "outputId": "d90714e1-3497-4a83-a68d-10c4491aa3bd",
        "colab": {
          "base_uri": "https://localhost:8080/"
        }
      },
      "outputs": [
        {
          "output_type": "execute_result",
          "data": {
            "text/plain": [
              "Age                        0\n",
              "Blood Pressure             0\n",
              "Specific Gravity           0\n",
              "Albumin                    0\n",
              "Sugar                      0\n",
              "Red Blood Cells            0\n",
              "Pus Cell                   0\n",
              "Pus Cell clumps            0\n",
              "Bacteria                   0\n",
              "Blood Glucose Random       0\n",
              "Blood Urea                 0\n",
              "Serum Creatinine           0\n",
              "Sodium                     0\n",
              "Potassium                  0\n",
              "Hemoglobin                 0\n",
              "Packed Cell Volume         0\n",
              "White Blood Cell Count     0\n",
              "Red Blood Cell Count       0\n",
              "Hypertension               0\n",
              "Diabetes Mellitus          0\n",
              "Coronary Artery Disease    0\n",
              "Appetite                   0\n",
              "Pedal Edema                0\n",
              "Anemia                     0\n",
              "Class                      0\n",
              "dtype: int64"
            ]
          },
          "metadata": {},
          "execution_count": 90
        }
      ],
      "source": [
        "# Checking for missing values in our dataset\n",
        "dset.isnull().sum()"
      ]
    },
    {
      "cell_type": "markdown",
      "metadata": {
        "id": "HJMXpADYKhEH"
      },
      "source": [
        "The above output of our code means there are no missing values in our dataset. This is great since having missing vaues can lead to biases and inaccurate analysis. However, we can trust this dataset to build a real robust model to make our predictions. We can proceed to analyze our data and create some visualizations of our ckd data"
      ]
    },
    {
      "cell_type": "code",
      "execution_count": 91,
      "metadata": {
        "id": "cEoiWyk7KhEH",
        "outputId": "a0fff66c-a4c4-45a2-c2f6-058fb66ed258",
        "colab": {
          "base_uri": "https://localhost:8080/"
        }
      },
      "outputs": [
        {
          "output_type": "execute_result",
          "data": {
            "text/plain": [
              "0    115\n",
              "1     43\n",
              "Name: Class, dtype: int64"
            ]
          },
          "metadata": {},
          "execution_count": 91
        }
      ],
      "source": [
        "# In our last column, we have the \"Class\" attribute where outputs given are either 0 or 1\n",
        "\n",
        "# We want to know how many Class of 0's there are and how many Class of 1's there are also in our dataset\n",
        "\n",
        "dset[\"Class\"].value_counts()\n",
        "\n",
        "# Where .value_counts() will give us the value counts of both 0's and 1's"
      ]
    },
    {
      "cell_type": "code",
      "source": [
        "dset[\"Class\"].array"
      ],
      "metadata": {
        "colab": {
          "base_uri": "https://localhost:8080/"
        },
        "id": "NzZBQG3Cqhmu",
        "outputId": "4a45cac6-1bd5-45e2-c456-689cea44ef89"
      },
      "execution_count": 92,
      "outputs": [
        {
          "output_type": "execute_result",
          "data": {
            "text/plain": [
              "<PandasArray>\n",
              "[1, 1, 1, 1, 1, 1, 1, 1, 1, 1,\n",
              " ...\n",
              " 0, 0, 0, 0, 0, 0, 0, 0, 0, 0]\n",
              "Length: 158, dtype: int64"
            ]
          },
          "metadata": {},
          "execution_count": 92
        }
      ]
    },
    {
      "cell_type": "markdown",
      "metadata": {
        "id": "lh3Lx8ebKhEH"
      },
      "source": [
        "In the above output of code, 0 has value counts to be 115 (thus appearing the 115th time) whilst 1 has value counts to be 43 (thus appearing 43rd) time in our entire dataset.\n",
        "Here, all 0's represnts observed pateints who do not have chronic kidney disease and all 1's represnts observed patients who have chronic heart disease."
      ]
    },
    {
      "cell_type": "markdown",
      "source": [
        "# **B. SEGMENT 2**"
      ],
      "metadata": {
        "id": "cUTJVnnv6Fjb"
      }
    },
    {
      "cell_type": "markdown",
      "metadata": {
        "id": "OkafbGwXKhEI"
      },
      "source": [
        "# **Scatterplot Analaysis**\n",
        "In this phase, we will analyse the relationship existing between some various columns present in our dataframe.\n",
        "To do this, we will create scatterplots to help us gain clearer understanding of  patterns, trends which would intend show the relationship existing between some selcted x variables and a y variable.\n",
        "We choose about three attributes from our dataset to do this visualization. They are \"Age\", \"White Blood Cell Count\", and \"Hemoglobin\" which will be our **x** variables against \"Blood Glucose Random\" thus glucose level in a patient at time in a day without fasting being our **y** variable.\n",
        "Here  we would consider the patterns that are created and draw inferences on the outcome of our scatterplot between the x and y variables respectively."
      ]
    },
    {
      "cell_type": "markdown",
      "metadata": {
        "id": "PteWEH5cKhEI"
      },
      "source": [
        "# (a) Hemoglobin level & Glucose level\n"
      ]
    },
    {
      "cell_type": "code",
      "execution_count": 93,
      "metadata": {
        "id": "lgbuVjrSKhEI",
        "outputId": "02550a68-1ac0-42ac-8e9f-ea675520baee",
        "colab": {
          "base_uri": "https://localhost:8080/",
          "height": 449
        }
      },
      "outputs": [
        {
          "output_type": "display_data",
          "data": {
            "text/plain": [
              "<Figure size 640x480 with 1 Axes>"
            ],
            "image/png": "[encoded data removed]"
          },
          "metadata": {}
        }
      ],
      "source": [
        "# x representing \"Hemoglobin\" and y representing \"Blood Glucose Random\"\n",
        "\n",
        "sns.scatterplot(x=\"Hemoglobin\", y=\"Blood Glucose Random\", data=dset, hue=\"Class\")\n",
        "\n",
        "# Setting color platelette for x and y variables in our analysis by defining a \"color platelette\" for our numeric variables\n",
        "\n",
        "custom_palette = {0: \"yellow\", 1: \"red\"} # Meaning all clusters of \"0\" will be visualized as \"yellow\" and all clusters of \"1\" will be visualized as red in our scatterplot\n",
        "\n",
        "# Let us create a scatterplot and specify the custom palette\n",
        "\n",
        "sns.scatterplot(x=\"Hemoglobin\", y=\"Blood Glucose Random\", data=dset, hue=\"Class\", palette=custom_palette)\n",
        "\n",
        "plt.show()"
      ]
    },
    {
      "cell_type": "markdown",
      "source": [
        "From our scatterplot, all those with \"no ckd\" represented by 0, are found in the lower right corner of our plot and all those who \"have ckd\" have points scatterred.\n",
        "According to health practitioners, a normal hemoglobin level in an individual may vary per gender roles. However, Hemoglobin level may stay between 12-18 grams per deciliter.\n",
        "In other sense, given that hemoglobin level in observed patients according to our scatterplot stays between the figures of 13g/dL and 18g/dL, these labels denote that patients with seamingly normal Hemoglobin level and low level of Glucose thus about 80mg/dL to 160mg/dL do not have chronic heart disease but patients with high blood glucose random between 200g/dL and 380g/dL or more with seamingly low hemoglobin level have chronic heart disease."
      ],
      "metadata": {
        "id": "GAGPghK661xx"
      }
    },
    {
      "cell_type": "markdown",
      "metadata": {
        "id": "5ZsrEJ8aKhEI"
      },
      "source": [
        "# (a) Age & Glucose level\n",
        "  "
      ]
    },
    {
      "cell_type": "code",
      "execution_count": 94,
      "metadata": {
        "id": "uEuQ5qLzKhEI",
        "outputId": "d30654e8-b4fc-4a20-bd25-9d828c04a65b",
        "colab": {
          "base_uri": "https://localhost:8080/",
          "height": 449
        }
      },
      "outputs": [
        {
          "output_type": "display_data",
          "data": {
            "text/plain": [
              "<Figure size 640x480 with 1 Axes>"
            ],
            "image/png": "[encoded data removed]"
          },
          "metadata": {}
        }
      ],
      "source": [
        "sns.scatterplot(x=\"Age\", y=\"Blood Glucose Random\", data=dset, hue=\"Class\", palette=custom_palette)\n",
        "custom_palette = {0: \"yellow\", 1: \"red\"}\n",
        "plt.show()"
      ]
    },
    {
      "cell_type": "markdown",
      "source": [
        "From the scatterplot above, we can deduce that patients aged from 50yrs to about 80yrs who have high Glucose present in their system are recorded to have Chronic Heart Disease (we could say this by intuition and by observing the plot.) About 1% of younger individuals (aged less than 10yrs to about 21yrs) were recorded to \"have Chronic Heart Disease.\" Whilst individuals aged from age 12 to 78yrs with low glucose level recorded \"not to have chronic heart disease in their system.\"\n",
        "From this scatter plot visualization we could conclude that **older people** with **higher amount of glucose (sugar)** are most likely to have Chronic Kidney Disease. CKD might be present in their body system even without them knowing and **younger people** with seamingly **low amount of glucose level** are likely \"not to have Chronic Heart Disease\" in their system."
      ],
      "metadata": {
        "id": "ixsCSgB86_eo"
      }
    },
    {
      "cell_type": "markdown",
      "metadata": {
        "id": "FchntiqzKhEI"
      },
      "source": [
        "# (a) White Blood Cell Count & Glucose level\n"
      ]
    },
    {
      "cell_type": "code",
      "execution_count": 95,
      "metadata": {
        "id": "TIJMJWduKhEI",
        "outputId": "54acb7e8-b3ff-4101-fc3a-91e356f95e97",
        "colab": {
          "base_uri": "https://localhost:8080/",
          "height": 449
        }
      },
      "outputs": [
        {
          "output_type": "display_data",
          "data": {
            "text/plain": [
              "<Figure size 640x480 with 1 Axes>"
            ],
            "image/png": "[encoded data removed]"
          },
          "metadata": {}
        }
      ],
      "source": [
        "sns.scatterplot(x=\"White Blood Cell Count\", y=\"Blood Glucose Random\", data=dset, hue=\"Class\", palette=custom_palette)\n",
        "custom_palette = {0: \"yellow\", 1: \"red\"}\n",
        "plt.show()"
      ]
    },
    {
      "cell_type": "markdown",
      "metadata": {
        "id": "mm2NenY9KhEI"
      },
      "source": [
        "From the above scatterplot, we can make the deduction that, patients with approximately about 4,500 white blood cell count to about 11,500 white blood cell count with glucose level about 80mg/dL to 140mg/dL \"do not have ckd\". Also, we could also infer that patients with high glucose level of about 180gm/dL to about 14,000 record of white blood cell \"have ckd\"\n",
        "This may however not be the case all the time since there are patients who have low glucose level and normal white blood cell count but still have Chronic Kidney Disease.\n"
      ]
    },
    {
      "cell_type": "markdown",
      "source": [
        "# **C. SEGMENT 3**"
      ],
      "metadata": {
        "id": "GuT_t_mEiVFq"
      }
    },
    {
      "cell_type": "markdown",
      "source": [
        "# Application of the Nearest-Neighbor Classification Algorithm\n",
        "After using an intuitive strategy to deduce amongst various x attributes and predicting ckd and non ckd patients, we then introduce a classification algorithm and build a model that can predict new clusters or new data points for our machine learning model to predict if new patient has chronic kidney disease or not. The K-nearest algorithm or classifier we will deploy in this case makes use of proximity (thus nearest in relatiosnhip)and similarity to make predictions of a data point. We will apply this classifier to our training dataset since our data is not too large to aid us make predictions on the unseen data points which we would introduce in our analysis."
      ],
      "metadata": {
        "id": "6ImCAwJpSzx8"
      }
    },
    {
      "cell_type": "markdown",
      "source": [
        "# Training and Spliting our data into train and test sets\n",
        "Before deploying our machine learning model, We will we will split our data into training and test sets.  We will then build and fit our model in this process as we implement the K-nearest classifier to our dataset.\n"
      ],
      "metadata": {
        "id": "4_YqyGkjuJUw"
      }
    },
    {
      "cell_type": "code",
      "source": [
        "# Dividing our dataset into X and Y labels where we have our X_train and X_test sets and y_train and y_test set of data\n",
        "\n",
        "# The .drop function is used on the X dataset to drop the \"Class\" column since we will be training our model with it\n",
        "\n",
        "X = dset.drop(columns=\"Class\")\n"
      ],
      "metadata": {
        "id": "3qN5OwUkL61S"
      },
      "execution_count": 96,
      "outputs": []
    },
    {
      "cell_type": "code",
      "source": [
        "# A look at the first five rows of our X data after dropping the \"Class\" column\n",
        "\n",
        "X.head()\n"
      ],
      "metadata": {
        "colab": {
          "base_uri": "https://localhost:8080/",
          "height": 308
        },
        "id": "ltfRqU2-Oj6j",
        "outputId": "19401128-29ce-4b7c-fca8-9b805bea2d28"
      },
      "execution_count": 97,
      "outputs": [
        {
          "output_type": "execute_result",
          "data": {
            "text/plain": [
              "   Age  Blood Pressure  Specific Gravity  Albumin  Sugar Red Blood Cells  \\\n",
              "0   48              70             1.005        4      0          normal   \n",
              "1   53              90             1.020        2      0        abnormal   \n",
              "2   63              70             1.010        3      0        abnormal   \n",
              "3   68              80             1.010        3      2          normal   \n",
              "4   61              80             1.015        2      0        abnormal   \n",
              "\n",
              "   Pus Cell Pus Cell clumps    Bacteria  Blood Glucose Random  ...  \\\n",
              "0  abnormal         present  notpresent                   117  ...   \n",
              "1  abnormal         present  notpresent                    70  ...   \n",
              "2  abnormal         present  notpresent                   380  ...   \n",
              "3  abnormal         present     present                   157  ...   \n",
              "4  abnormal      notpresent  notpresent                   173  ...   \n",
              "\n",
              "   Hemoglobin  Packed Cell Volume  White Blood Cell Count  \\\n",
              "0        11.2                  32                    6700   \n",
              "1         9.5                  29                   12100   \n",
              "2        10.8                  32                    4500   \n",
              "3         5.6                  16                   11000   \n",
              "4         7.7                  24                    9200   \n",
              "\n",
              "   Red Blood Cell Count  Hypertension  Diabetes Mellitus  \\\n",
              "0                   3.9           yes                 no   \n",
              "1                   3.7           yes                yes   \n",
              "2                   3.8           yes                yes   \n",
              "3                   2.6           yes                yes   \n",
              "4                   3.2           yes                yes   \n",
              "\n",
              "   Coronary Artery Disease  Appetite Pedal Edema Anemia  \n",
              "0                       no      poor         yes    yes  \n",
              "1                       no      poor          no    yes  \n",
              "2                       no      poor         yes     no  \n",
              "3                      yes      poor         yes     no  \n",
              "4                      yes      poor         yes    yes  \n",
              "\n",
              "[5 rows x 24 columns]"
            ],
            "text/html": [
              "\n",
              "  <div id=\"df-b81b626a-e018-4168-ad89-b48a5eebde53\" class=\"colab-df-container\">\n",
              "    <div>\n",
              "<style scoped>\n",
              "    .dataframe tbody tr th:only-of-type {\n",
              "        vertical-align: middle;\n",
              "    }\n",
              "\n",
              "    .dataframe tbody tr th {\n",
              "        vertical-align: top;\n",
              "    }\n",
              "\n",
              "    .dataframe thead th {\n",
              "        text-align: right;\n",
              "    }\n",
              "</style>\n",
              "<table border=\"1\" class=\"dataframe\">\n",
              "  <thead>\n",
              "    <tr style=\"text-align: right;\">\n",
              "      <th></th>\n",
              "      <th>Age</th>\n",
              "      <th>Blood Pressure</th>\n",
              "      <th>Specific Gravity</th>\n",
              "      <th>Albumin</th>\n",
              "      <th>Sugar</th>\n",
              "      <th>Red Blood Cells</th>\n",
              "      <th>Pus Cell</th>\n",
              "      <th>Pus Cell clumps</th>\n",
              "      <th>Bacteria</th>\n",
              "      <th>Blood Glucose Random</th>\n",
              "      <th>...</th>\n",
              "      <th>Hemoglobin</th>\n",
              "      <th>Packed Cell Volume</th>\n",
              "      <th>White Blood Cell Count</th>\n",
              "      <th>Red Blood Cell Count</th>\n",
              "      <th>Hypertension</th>\n",
              "      <th>Diabetes Mellitus</th>\n",
              "      <th>Coronary Artery Disease</th>\n",
              "      <th>Appetite</th>\n",
              "      <th>Pedal Edema</th>\n",
              "      <th>Anemia</th>\n",
              "    </tr>\n",
              "  </thead>\n",
              "  <tbody>\n",
              "    <tr>\n",
              "      <th>0</th>\n",
              "      <td>48</td>\n",
              "      <td>70</td>\n",
              "      <td>1.005</td>\n",
              "      <td>4</td>\n",
              "      <td>0</td>\n",
              "      <td>normal</td>\n",
              "      <td>abnormal</td>\n",
              "      <td>present</td>\n",
              "      <td>notpresent</td>\n",
              "      <td>117</td>\n",
              "      <td>...</td>\n",
              "      <td>11.2</td>\n",
              "      <td>32</td>\n",
              "      <td>6700</td>\n",
              "      <td>3.9</td>\n",
              "      <td>yes</td>\n",
              "      <td>no</td>\n",
              "      <td>no</td>\n",
              "      <td>poor</td>\n",
              "      <td>yes</td>\n",
              "      <td>yes</td>\n",
              "    </tr>\n",
              "    <tr>\n",
              "      <th>1</th>\n",
              "      <td>53</td>\n",
              "      <td>90</td>\n",
              "      <td>1.020</td>\n",
              "      <td>2</td>\n",
              "      <td>0</td>\n",
              "      <td>abnormal</td>\n",
              "      <td>abnormal</td>\n",
              "      <td>present</td>\n",
              "      <td>notpresent</td>\n",
              "      <td>70</td>\n",
              "      <td>...</td>\n",
              "      <td>9.5</td>\n",
              "      <td>29</td>\n",
              "      <td>12100</td>\n",
              "      <td>3.7</td>\n",
              "      <td>yes</td>\n",
              "      <td>yes</td>\n",
              "      <td>no</td>\n",
              "      <td>poor</td>\n",
              "      <td>no</td>\n",
              "      <td>yes</td>\n",
              "    </tr>\n",
              "    <tr>\n",
              "      <th>2</th>\n",
              "      <td>63</td>\n",
              "      <td>70</td>\n",
              "      <td>1.010</td>\n",
              "      <td>3</td>\n",
              "      <td>0</td>\n",
              "      <td>abnormal</td>\n",
              "      <td>abnormal</td>\n",
              "      <td>present</td>\n",
              "      <td>notpresent</td>\n",
              "      <td>380</td>\n",
              "      <td>...</td>\n",
              "      <td>10.8</td>\n",
              "      <td>32</td>\n",
              "      <td>4500</td>\n",
              "      <td>3.8</td>\n",
              "      <td>yes</td>\n",
              "      <td>yes</td>\n",
              "      <td>no</td>\n",
              "      <td>poor</td>\n",
              "      <td>yes</td>\n",
              "      <td>no</td>\n",
              "    </tr>\n",
              "    <tr>\n",
              "      <th>3</th>\n",
              "      <td>68</td>\n",
              "      <td>80</td>\n",
              "      <td>1.010</td>\n",
              "      <td>3</td>\n",
              "      <td>2</td>\n",
              "      <td>normal</td>\n",
              "      <td>abnormal</td>\n",
              "      <td>present</td>\n",
              "      <td>present</td>\n",
              "      <td>157</td>\n",
              "      <td>...</td>\n",
              "      <td>5.6</td>\n",
              "      <td>16</td>\n",
              "      <td>11000</td>\n",
              "      <td>2.6</td>\n",
              "      <td>yes</td>\n",
              "      <td>yes</td>\n",
              "      <td>yes</td>\n",
              "      <td>poor</td>\n",
              "      <td>yes</td>\n",
              "      <td>no</td>\n",
              "    </tr>\n",
              "    <tr>\n",
              "      <th>4</th>\n",
              "      <td>61</td>\n",
              "      <td>80</td>\n",
              "      <td>1.015</td>\n",
              "      <td>2</td>\n",
              "      <td>0</td>\n",
              "      <td>abnormal</td>\n",
              "      <td>abnormal</td>\n",
              "      <td>notpresent</td>\n",
              "      <td>notpresent</td>\n",
              "      <td>173</td>\n",
              "      <td>...</td>\n",
              "      <td>7.7</td>\n",
              "      <td>24</td>\n",
              "      <td>9200</td>\n",
              "      <td>3.2</td>\n",
              "      <td>yes</td>\n",
              "      <td>yes</td>\n",
              "      <td>yes</td>\n",
              "      <td>poor</td>\n",
              "      <td>yes</td>\n",
              "      <td>yes</td>\n",
              "    </tr>\n",
              "  </tbody>\n",
              "</table>\n",
              "<p>5 rows × 24 columns</p>\n",
              "</div>\n",
              "    <div class=\"colab-df-buttons\">\n",
              "\n",
              "  <div class=\"colab-df-container\">\n",
              "    <button class=\"colab-df-convert\" onclick=\"convertToInteractive('df-b81b626a-e018-4168-ad89-b48a5eebde53')\"\n",
              "            title=\"Convert this dataframe to an interactive table.\"\n",
              "            style=\"display:none;\">\n",
              "\n",
              "  <svg xmlns=\"http://www.w3.org/2000/svg\" height=\"24px\" viewBox=\"0 -960 960 960\">\n",
              "    <path d=\"M120-120v-720h720v720H120Zm60-500h600v-160H180v160Zm220 220h160v-160H400v160Zm0 220h160v-160H400v160ZM180-400h160v-160H180v160Zm440 0h160v-160H620v160ZM180-180h160v-160H180v160Zm440 0h160v-160H620v160Z\"/>\n",
              "  </svg>\n",
              "    </button>\n",
              "\n",
              "  <style>\n",
              "    .colab-df-container {\n",
              "      display:flex;\n",
              "      gap: 12px;\n",
              "    }\n",
              "\n",
              "    .colab-df-convert {\n",
              "      background-color: #E8F0FE;\n",
              "      border: none;\n",
              "      border-radius: 50%;\n",
              "      cursor: pointer;\n",
              "      display: none;\n",
              "      fill: #1967D2;\n",
              "      height: 32px;\n",
              "      padding: 0 0 0 0;\n",
              "      width: 32px;\n",
              "    }\n",
              "\n",
              "    .colab-df-convert:hover {\n",
              "      background-color: #E2EBFA;\n",
              "      box-shadow: 0px 1px 2px rgba(60, 64, 67, 0.3), 0px 1px 3px 1px rgba(60, 64, 67, 0.15);\n",
              "      fill: #174EA6;\n",
              "    }\n",
              "\n",
              "    .colab-df-buttons div {\n",
              "      margin-bottom: 4px;\n",
              "    }\n",
              "\n",
              "    [theme=dark] .colab-df-convert {\n",
              "      background-color: #3B4455;\n",
              "      fill: #D2E3FC;\n",
              "    }\n",
              "\n",
              "    [theme=dark] .colab-df-convert:hover {\n",
              "      background-color: #434B5C;\n",
              "      box-shadow: 0px 1px 3px 1px rgba(0, 0, 0, 0.15);\n",
              "      filter: drop-shadow(0px 1px 2px rgba(0, 0, 0, 0.3));\n",
              "      fill: #FFFFFF;\n",
              "    }\n",
              "  </style>\n",
              "\n",
              "    <script>\n",
              "      const buttonEl =\n",
              "        document.querySelector('#df-b81b626a-e018-4168-ad89-b48a5eebde53 button.colab-df-convert');\n",
              "      buttonEl.style.display =\n",
              "        google.colab.kernel.accessAllowed ? 'block' : 'none';\n",
              "\n",
              "      async function convertToInteractive(key) {\n",
              "        const element = document.querySelector('#df-b81b626a-e018-4168-ad89-b48a5eebde53');\n",
              "        const dataTable =\n",
              "          await google.colab.kernel.invokeFunction('convertToInteractive',\n",
              "                                                    [key], {});\n",
              "        if (!dataTable) return;\n",
              "\n",
              "        const docLinkHtml = 'Like what you see? Visit the ' +\n",
              "          '<a target=\"_blank\" href=https://colab.research.google.com/notebooks/data_table.ipynb>data table notebook</a>'\n",
              "          + ' to learn more about interactive tables.';\n",
              "        element.innerHTML = '';\n",
              "        dataTable['output_type'] = 'display_data';\n",
              "        await google.colab.output.renderOutput(dataTable, element);\n",
              "        const docLink = document.createElement('div');\n",
              "        docLink.innerHTML = docLinkHtml;\n",
              "        element.appendChild(docLink);\n",
              "      }\n",
              "    </script>\n",
              "  </div>\n",
              "\n",
              "\n",
              "<div id=\"df-00908926-0422-41c3-9226-12391aeefbef\">\n",
              "  <button class=\"colab-df-quickchart\" onclick=\"quickchart('df-00908926-0422-41c3-9226-12391aeefbef')\"\n",
              "            title=\"Suggest charts.\"\n",
              "            style=\"display:none;\">\n",
              "\n",
              "<svg xmlns=\"http://www.w3.org/2000/svg\" height=\"24px\"viewBox=\"0 0 24 24\"\n",
              "     width=\"24px\">\n",
              "    <g>\n",
              "        <path d=\"M19 3H5c-1.1 0-2 .9-2 2v14c0 1.1.9 2 2 2h14c1.1 0 2-.9 2-2V5c0-1.1-.9-2-2-2zM9 17H7v-7h2v7zm4 0h-2V7h2v10zm4 0h-2v-4h2v4z\"/>\n",
              "    </g>\n",
              "</svg>\n",
              "  </button>\n",
              "\n",
              "<style>\n",
              "  .colab-df-quickchart {\n",
              "      --bg-color: #E8F0FE;\n",
              "      --fill-color: #1967D2;\n",
              "      --hover-bg-color: #E2EBFA;\n",
              "      --hover-fill-color: #174EA6;\n",
              "      --disabled-fill-color: #AAA;\n",
              "      --disabled-bg-color: #DDD;\n",
              "  }\n",
              "\n",
              "  [theme=dark] .colab-df-quickchart {\n",
              "      --bg-color: #3B4455;\n",
              "      --fill-color: #D2E3FC;\n",
              "      --hover-bg-color: #434B5C;\n",
              "      --hover-fill-color: #FFFFFF;\n",
              "      --disabled-bg-color: #3B4455;\n",
              "      --disabled-fill-color: #666;\n",
              "  }\n",
              "\n",
              "  .colab-df-quickchart {\n",
              "    background-color: var(--bg-color);\n",
              "    border: none;\n",
              "    border-radius: 50%;\n",
              "    cursor: pointer;\n",
              "    display: none;\n",
              "    fill: var(--fill-color);\n",
              "    height: 32px;\n",
              "    padding: 0;\n",
              "    width: 32px;\n",
              "  }\n",
              "\n",
              "  .colab-df-quickchart:hover {\n",
              "    background-color: var(--hover-bg-color);\n",
              "    box-shadow: 0 1px 2px rgba(60, 64, 67, 0.3), 0 1px 3px 1px rgba(60, 64, 67, 0.15);\n",
              "    fill: var(--button-hover-fill-color);\n",
              "  }\n",
              "\n",
              "  .colab-df-quickchart-complete:disabled,\n",
              "  .colab-df-quickchart-complete:disabled:hover {\n",
              "    background-color: var(--disabled-bg-color);\n",
              "    fill: var(--disabled-fill-color);\n",
              "    box-shadow: none;\n",
              "  }\n",
              "\n",
              "  .colab-df-spinner {\n",
              "    border: 2px solid var(--fill-color);\n",
              "    border-color: transparent;\n",
              "    border-bottom-color: var(--fill-color);\n",
              "    animation:\n",
              "      spin 1s steps(1) infinite;\n",
              "  }\n",
              "\n",
              "  @keyframes spin {\n",
              "    0% {\n",
              "      border-color: transparent;\n",
              "      border-bottom-color: var(--fill-color);\n",
              "      border-left-color: var(--fill-color);\n",
              "    }\n",
              "    20% {\n",
              "      border-color: transparent;\n",
              "      border-left-color: var(--fill-color);\n",
              "      border-top-color: var(--fill-color);\n",
              "    }\n",
              "    30% {\n",
              "      border-color: transparent;\n",
              "      border-left-color: var(--fill-color);\n",
              "      border-top-color: var(--fill-color);\n",
              "      border-right-color: var(--fill-color);\n",
              "    }\n",
              "    40% {\n",
              "      border-color: transparent;\n",
              "      border-right-color: var(--fill-color);\n",
              "      border-top-color: var(--fill-color);\n",
              "    }\n",
              "    60% {\n",
              "      border-color: transparent;\n",
              "      border-right-color: var(--fill-color);\n",
              "    }\n",
              "    80% {\n",
              "      border-color: transparent;\n",
              "      border-right-color: var(--fill-color);\n",
              "      border-bottom-color: var(--fill-color);\n",
              "    }\n",
              "    90% {\n",
              "      border-color: transparent;\n",
              "      border-bottom-color: var(--fill-color);\n",
              "    }\n",
              "  }\n",
              "</style>\n",
              "\n",
              "  <script>\n",
              "    async function quickchart(key) {\n",
              "      const quickchartButtonEl =\n",
              "        document.querySelector('#' + key + ' button');\n",
              "      quickchartButtonEl.disabled = true;  // To prevent multiple clicks.\n",
              "      quickchartButtonEl.classList.add('colab-df-spinner');\n",
              "      try {\n",
              "        const charts = await google.colab.kernel.invokeFunction(\n",
              "            'suggestCharts', [key], {});\n",
              "      } catch (error) {\n",
              "        console.error('Error during call to suggestCharts:', error);\n",
              "      }\n",
              "      quickchartButtonEl.classList.remove('colab-df-spinner');\n",
              "      quickchartButtonEl.classList.add('colab-df-quickchart-complete');\n",
              "    }\n",
              "    (() => {\n",
              "      let quickchartButtonEl =\n",
              "        document.querySelector('#df-00908926-0422-41c3-9226-12391aeefbef button');\n",
              "      quickchartButtonEl.style.display =\n",
              "        google.colab.kernel.accessAllowed ? 'block' : 'none';\n",
              "    })();\n",
              "  </script>\n",
              "</div>\n",
              "    </div>\n",
              "  </div>\n"
            ]
          },
          "metadata": {},
          "execution_count": 97
        }
      ]
    },
    {
      "cell_type": "markdown",
      "source": [
        "Now we will not have the \"Class\" attribute in this new cluster of data that we will introduce to our model will now have to predict the \"Class\" attribute of the new data points."
      ],
      "metadata": {
        "id": "1_1BHhvFNeu6"
      }
    },
    {
      "cell_type": "code",
      "source": [
        "X.shape"
      ],
      "metadata": {
        "colab": {
          "base_uri": "https://localhost:8080/"
        },
        "id": "N82XjfkIQRJ8",
        "outputId": "3fd2defd-6e34-4992-ada7-bb99de6819a7"
      },
      "execution_count": 98,
      "outputs": [
        {
          "output_type": "execute_result",
          "data": {
            "text/plain": [
              "(158, 24)"
            ]
          },
          "metadata": {},
          "execution_count": 98
        }
      ]
    },
    {
      "cell_type": "code",
      "source": [
        "len(X)"
      ],
      "metadata": {
        "colab": {
          "base_uri": "https://localhost:8080/"
        },
        "id": "MPc5Wu2EQVJT",
        "outputId": "ced265b7-fc9e-4021-9b0a-bccdfa607e3d"
      },
      "execution_count": 99,
      "outputs": [
        {
          "output_type": "execute_result",
          "data": {
            "text/plain": [
              "158"
            ]
          },
          "metadata": {},
          "execution_count": 99
        }
      ]
    },
    {
      "cell_type": "markdown",
      "source": [
        "In X dataset, there are 158 rows and 24 columns.\n",
        "\n",
        "\n"
      ],
      "metadata": {
        "id": "U9VCZvi-QYML"
      }
    },
    {
      "cell_type": "code",
      "source": [
        "X.columns"
      ],
      "metadata": {
        "colab": {
          "base_uri": "https://localhost:8080/"
        },
        "id": "RXIhYzzyRDDT",
        "outputId": "de6b29aa-7e32-4781-b21b-12bc59f39f72"
      },
      "execution_count": 100,
      "outputs": [
        {
          "output_type": "execute_result",
          "data": {
            "text/plain": [
              "Index(['Age', 'Blood Pressure', 'Specific Gravity', 'Albumin', 'Sugar',\n",
              "       'Red Blood Cells', 'Pus Cell', 'Pus Cell clumps', 'Bacteria',\n",
              "       'Blood Glucose Random', 'Blood Urea', 'Serum Creatinine', 'Sodium',\n",
              "       'Potassium', 'Hemoglobin', 'Packed Cell Volume',\n",
              "       'White Blood Cell Count', 'Red Blood Cell Count', 'Hypertension',\n",
              "       'Diabetes Mellitus', 'Coronary Artery Disease', 'Appetite',\n",
              "       'Pedal Edema', 'Anemia'],\n",
              "      dtype='object')"
            ]
          },
          "metadata": {},
          "execution_count": 100
        }
      ]
    },
    {
      "cell_type": "code",
      "source": [
        "X.info()"
      ],
      "metadata": {
        "colab": {
          "base_uri": "https://localhost:8080/"
        },
        "id": "43uI2ay8Q5ZU",
        "outputId": "67b39546-793b-470d-e079-09df623286b6"
      },
      "execution_count": 101,
      "outputs": [
        {
          "output_type": "stream",
          "name": "stdout",
          "text": [
            "<class 'pandas.core.frame.DataFrame'>\n",
            "RangeIndex: 158 entries, 0 to 157\n",
            "Data columns (total 24 columns):\n",
            " #   Column                   Non-Null Count  Dtype  \n",
            "---  ------                   --------------  -----  \n",
            " 0   Age                      158 non-null    int64  \n",
            " 1   Blood Pressure           158 non-null    int64  \n",
            " 2   Specific Gravity         158 non-null    float64\n",
            " 3   Albumin                  158 non-null    int64  \n",
            " 4   Sugar                    158 non-null    int64  \n",
            " 5   Red Blood Cells          158 non-null    object \n",
            " 6   Pus Cell                 158 non-null    object \n",
            " 7   Pus Cell clumps          158 non-null    object \n",
            " 8   Bacteria                 158 non-null    object \n",
            " 9   Blood Glucose Random     158 non-null    int64  \n",
            " 10  Blood Urea               158 non-null    int64  \n",
            " 11  Serum Creatinine         158 non-null    float64\n",
            " 12  Sodium                   158 non-null    int64  \n",
            " 13  Potassium                158 non-null    float64\n",
            " 14  Hemoglobin               158 non-null    float64\n",
            " 15  Packed Cell Volume       158 non-null    int64  \n",
            " 16  White Blood Cell Count   158 non-null    int64  \n",
            " 17  Red Blood Cell Count     158 non-null    float64\n",
            " 18  Hypertension             158 non-null    object \n",
            " 19  Diabetes Mellitus        158 non-null    object \n",
            " 20  Coronary Artery Disease  158 non-null    object \n",
            " 21  Appetite                 158 non-null    object \n",
            " 22  Pedal Edema              158 non-null    object \n",
            " 23  Anemia                   158 non-null    object \n",
            "dtypes: float64(5), int64(9), object(10)\n",
            "memory usage: 29.8+ KB\n"
          ]
        }
      ]
    },
    {
      "cell_type": "code",
      "source": [
        "# Y labels for training\n",
        "\n",
        "y = dset[\"Class\"]"
      ],
      "metadata": {
        "id": "4MPu8xUmUtJN"
      },
      "execution_count": 102,
      "outputs": []
    },
    {
      "cell_type": "code",
      "source": [
        "y.head(7)"
      ],
      "metadata": {
        "colab": {
          "base_uri": "https://localhost:8080/"
        },
        "id": "QVjwkcwyVUJ9",
        "outputId": "98cf981c-bf8b-4c7c-cf29-cd5bf7e81114"
      },
      "execution_count": 103,
      "outputs": [
        {
          "output_type": "execute_result",
          "data": {
            "text/plain": [
              "0    1\n",
              "1    1\n",
              "2    1\n",
              "3    1\n",
              "4    1\n",
              "5    1\n",
              "6    1\n",
              "Name: Class, dtype: int64"
            ]
          },
          "metadata": {},
          "execution_count": 103
        }
      ]
    },
    {
      "cell_type": "code",
      "source": [
        "len(y)"
      ],
      "metadata": {
        "colab": {
          "base_uri": "https://localhost:8080/"
        },
        "id": "T7C1YOlxVmgt",
        "outputId": "6693adfc-4bc5-4527-8bd9-ac6a7dfbed1f"
      },
      "execution_count": 104,
      "outputs": [
        {
          "output_type": "execute_result",
          "data": {
            "text/plain": [
              "158"
            ]
          },
          "metadata": {},
          "execution_count": 104
        }
      ]
    },
    {
      "cell_type": "code",
      "source": [
        "y.shape"
      ],
      "metadata": {
        "colab": {
          "base_uri": "https://localhost:8080/"
        },
        "id": "OUceyBo7Vott",
        "outputId": "46db7104-4963-4a10-d5ff-4e7db31c812d"
      },
      "execution_count": 105,
      "outputs": [
        {
          "output_type": "execute_result",
          "data": {
            "text/plain": [
              "(158,)"
            ]
          },
          "metadata": {},
          "execution_count": 105
        }
      ]
    },
    {
      "cell_type": "code",
      "source": [
        "# Creating an entirely new X data train set\n",
        "\n",
        "X = X[[\"Age\", \"Blood Pressure\", \"Specific Gravity\", \"Albumin\", \"Sugar\", \"Blood Glucose Random\", \"Blood Urea\",'Serum Creatinine', 'Sodium', 'Potassium', 'Hemoglobin', 'Packed Cell Volume', 'White Blood Cell Count', 'Red Blood Cell Count']]\n"
      ],
      "metadata": {
        "id": "FXjqRGxjRLYk"
      },
      "execution_count": 106,
      "outputs": []
    },
    {
      "cell_type": "code",
      "source": [
        "X.head()"
      ],
      "metadata": {
        "colab": {
          "base_uri": "https://localhost:8080/",
          "height": 241
        },
        "id": "vWJps0f2lTTR",
        "outputId": "49cdbfa8-f677-4c37-bce0-20ec9c539d35"
      },
      "execution_count": 107,
      "outputs": [
        {
          "output_type": "execute_result",
          "data": {
            "text/plain": [
              "   Age  Blood Pressure  Specific Gravity  Albumin  Sugar  \\\n",
              "0   48              70             1.005        4      0   \n",
              "1   53              90             1.020        2      0   \n",
              "2   63              70             1.010        3      0   \n",
              "3   68              80             1.010        3      2   \n",
              "4   61              80             1.015        2      0   \n",
              "\n",
              "   Blood Glucose Random  Blood Urea  Serum Creatinine  Sodium  Potassium  \\\n",
              "0                   117          56               3.8     111        2.5   \n",
              "1                    70         107               7.2     114        3.7   \n",
              "2                   380          60               2.7     131        4.2   \n",
              "3                   157          90               4.1     130        6.4   \n",
              "4                   173         148               3.9     135        5.2   \n",
              "\n",
              "   Hemoglobin  Packed Cell Volume  White Blood Cell Count  \\\n",
              "0        11.2                  32                    6700   \n",
              "1         9.5                  29                   12100   \n",
              "2        10.8                  32                    4500   \n",
              "3         5.6                  16                   11000   \n",
              "4         7.7                  24                    9200   \n",
              "\n",
              "   Red Blood Cell Count  \n",
              "0                   3.9  \n",
              "1                   3.7  \n",
              "2                   3.8  \n",
              "3                   2.6  \n",
              "4                   3.2  "
            ],
            "text/html": [
              "\n",
              "  <div id=\"df-839e597a-de1f-4153-8d45-b077677e627b\" class=\"colab-df-container\">\n",
              "    <div>\n",
              "<style scoped>\n",
              "    .dataframe tbody tr th:only-of-type {\n",
              "        vertical-align: middle;\n",
              "    }\n",
              "\n",
              "    .dataframe tbody tr th {\n",
              "        vertical-align: top;\n",
              "    }\n",
              "\n",
              "    .dataframe thead th {\n",
              "        text-align: right;\n",
              "    }\n",
              "</style>\n",
              "<table border=\"1\" class=\"dataframe\">\n",
              "  <thead>\n",
              "    <tr style=\"text-align: right;\">\n",
              "      <th></th>\n",
              "      <th>Age</th>\n",
              "      <th>Blood Pressure</th>\n",
              "      <th>Specific Gravity</th>\n",
              "      <th>Albumin</th>\n",
              "      <th>Sugar</th>\n",
              "      <th>Blood Glucose Random</th>\n",
              "      <th>Blood Urea</th>\n",
              "      <th>Serum Creatinine</th>\n",
              "      <th>Sodium</th>\n",
              "      <th>Potassium</th>\n",
              "      <th>Hemoglobin</th>\n",
              "      <th>Packed Cell Volume</th>\n",
              "      <th>White Blood Cell Count</th>\n",
              "      <th>Red Blood Cell Count</th>\n",
              "    </tr>\n",
              "  </thead>\n",
              "  <tbody>\n",
              "    <tr>\n",
              "      <th>0</th>\n",
              "      <td>48</td>\n",
              "      <td>70</td>\n",
              "      <td>1.005</td>\n",
              "      <td>4</td>\n",
              "      <td>0</td>\n",
              "      <td>117</td>\n",
              "      <td>56</td>\n",
              "      <td>3.8</td>\n",
              "      <td>111</td>\n",
              "      <td>2.5</td>\n",
              "      <td>11.2</td>\n",
              "      <td>32</td>\n",
              "      <td>6700</td>\n",
              "      <td>3.9</td>\n",
              "    </tr>\n",
              "    <tr>\n",
              "      <th>1</th>\n",
              "      <td>53</td>\n",
              "      <td>90</td>\n",
              "      <td>1.020</td>\n",
              "      <td>2</td>\n",
              "      <td>0</td>\n",
              "      <td>70</td>\n",
              "      <td>107</td>\n",
              "      <td>7.2</td>\n",
              "      <td>114</td>\n",
              "      <td>3.7</td>\n",
              "      <td>9.5</td>\n",
              "      <td>29</td>\n",
              "      <td>12100</td>\n",
              "      <td>3.7</td>\n",
              "    </tr>\n",
              "    <tr>\n",
              "      <th>2</th>\n",
              "      <td>63</td>\n",
              "      <td>70</td>\n",
              "      <td>1.010</td>\n",
              "      <td>3</td>\n",
              "      <td>0</td>\n",
              "      <td>380</td>\n",
              "      <td>60</td>\n",
              "      <td>2.7</td>\n",
              "      <td>131</td>\n",
              "      <td>4.2</td>\n",
              "      <td>10.8</td>\n",
              "      <td>32</td>\n",
              "      <td>4500</td>\n",
              "      <td>3.8</td>\n",
              "    </tr>\n",
              "    <tr>\n",
              "      <th>3</th>\n",
              "      <td>68</td>\n",
              "      <td>80</td>\n",
              "      <td>1.010</td>\n",
              "      <td>3</td>\n",
              "      <td>2</td>\n",
              "      <td>157</td>\n",
              "      <td>90</td>\n",
              "      <td>4.1</td>\n",
              "      <td>130</td>\n",
              "      <td>6.4</td>\n",
              "      <td>5.6</td>\n",
              "      <td>16</td>\n",
              "      <td>11000</td>\n",
              "      <td>2.6</td>\n",
              "    </tr>\n",
              "    <tr>\n",
              "      <th>4</th>\n",
              "      <td>61</td>\n",
              "      <td>80</td>\n",
              "      <td>1.015</td>\n",
              "      <td>2</td>\n",
              "      <td>0</td>\n",
              "      <td>173</td>\n",
              "      <td>148</td>\n",
              "      <td>3.9</td>\n",
              "      <td>135</td>\n",
              "      <td>5.2</td>\n",
              "      <td>7.7</td>\n",
              "      <td>24</td>\n",
              "      <td>9200</td>\n",
              "      <td>3.2</td>\n",
              "    </tr>\n",
              "  </tbody>\n",
              "</table>\n",
              "</div>\n",
              "    <div class=\"colab-df-buttons\">\n",
              "\n",
              "  <div class=\"colab-df-container\">\n",
              "    <button class=\"colab-df-convert\" onclick=\"convertToInteractive('df-839e597a-de1f-4153-8d45-b077677e627b')\"\n",
              "            title=\"Convert this dataframe to an interactive table.\"\n",
              "            style=\"display:none;\">\n",
              "\n",
              "  <svg xmlns=\"http://www.w3.org/2000/svg\" height=\"24px\" viewBox=\"0 -960 960 960\">\n",
              "    <path d=\"M120-120v-720h720v720H120Zm60-500h600v-160H180v160Zm220 220h160v-160H400v160Zm0 220h160v-160H400v160ZM180-400h160v-160H180v160Zm440 0h160v-160H620v160ZM180-180h160v-160H180v160Zm440 0h160v-160H620v160Z\"/>\n",
              "  </svg>\n",
              "    </button>\n",
              "\n",
              "  <style>\n",
              "    .colab-df-container {\n",
              "      display:flex;\n",
              "      gap: 12px;\n",
              "    }\n",
              "\n",
              "    .colab-df-convert {\n",
              "      background-color: #E8F0FE;\n",
              "      border: none;\n",
              "      border-radius: 50%;\n",
              "      cursor: pointer;\n",
              "      display: none;\n",
              "      fill: #1967D2;\n",
              "      height: 32px;\n",
              "      padding: 0 0 0 0;\n",
              "      width: 32px;\n",
              "    }\n",
              "\n",
              "    .colab-df-convert:hover {\n",
              "      background-color: #E2EBFA;\n",
              "      box-shadow: 0px 1px 2px rgba(60, 64, 67, 0.3), 0px 1px 3px 1px rgba(60, 64, 67, 0.15);\n",
              "      fill: #174EA6;\n",
              "    }\n",
              "\n",
              "    .colab-df-buttons div {\n",
              "      margin-bottom: 4px;\n",
              "    }\n",
              "\n",
              "    [theme=dark] .colab-df-convert {\n",
              "      background-color: #3B4455;\n",
              "      fill: #D2E3FC;\n",
              "    }\n",
              "\n",
              "    [theme=dark] .colab-df-convert:hover {\n",
              "      background-color: #434B5C;\n",
              "      box-shadow: 0px 1px 3px 1px rgba(0, 0, 0, 0.15);\n",
              "      filter: drop-shadow(0px 1px 2px rgba(0, 0, 0, 0.3));\n",
              "      fill: #FFFFFF;\n",
              "    }\n",
              "  </style>\n",
              "\n",
              "    <script>\n",
              "      const buttonEl =\n",
              "        document.querySelector('#df-839e597a-de1f-4153-8d45-b077677e627b button.colab-df-convert');\n",
              "      buttonEl.style.display =\n",
              "        google.colab.kernel.accessAllowed ? 'block' : 'none';\n",
              "\n",
              "      async function convertToInteractive(key) {\n",
              "        const element = document.querySelector('#df-839e597a-de1f-4153-8d45-b077677e627b');\n",
              "        const dataTable =\n",
              "          await google.colab.kernel.invokeFunction('convertToInteractive',\n",
              "                                                    [key], {});\n",
              "        if (!dataTable) return;\n",
              "\n",
              "        const docLinkHtml = 'Like what you see? Visit the ' +\n",
              "          '<a target=\"_blank\" href=https://colab.research.google.com/notebooks/data_table.ipynb>data table notebook</a>'\n",
              "          + ' to learn more about interactive tables.';\n",
              "        element.innerHTML = '';\n",
              "        dataTable['output_type'] = 'display_data';\n",
              "        await google.colab.output.renderOutput(dataTable, element);\n",
              "        const docLink = document.createElement('div');\n",
              "        docLink.innerHTML = docLinkHtml;\n",
              "        element.appendChild(docLink);\n",
              "      }\n",
              "    </script>\n",
              "  </div>\n",
              "\n",
              "\n",
              "<div id=\"df-c5e4f45e-4fff-4092-92d0-e899c505aa24\">\n",
              "  <button class=\"colab-df-quickchart\" onclick=\"quickchart('df-c5e4f45e-4fff-4092-92d0-e899c505aa24')\"\n",
              "            title=\"Suggest charts.\"\n",
              "            style=\"display:none;\">\n",
              "\n",
              "<svg xmlns=\"http://www.w3.org/2000/svg\" height=\"24px\"viewBox=\"0 0 24 24\"\n",
              "     width=\"24px\">\n",
              "    <g>\n",
              "        <path d=\"M19 3H5c-1.1 0-2 .9-2 2v14c0 1.1.9 2 2 2h14c1.1 0 2-.9 2-2V5c0-1.1-.9-2-2-2zM9 17H7v-7h2v7zm4 0h-2V7h2v10zm4 0h-2v-4h2v4z\"/>\n",
              "    </g>\n",
              "</svg>\n",
              "  </button>\n",
              "\n",
              "<style>\n",
              "  .colab-df-quickchart {\n",
              "      --bg-color: #E8F0FE;\n",
              "      --fill-color: #1967D2;\n",
              "      --hover-bg-color: #E2EBFA;\n",
              "      --hover-fill-color: #174EA6;\n",
              "      --disabled-fill-color: #AAA;\n",
              "      --disabled-bg-color: #DDD;\n",
              "  }\n",
              "\n",
              "  [theme=dark] .colab-df-quickchart {\n",
              "      --bg-color: #3B4455;\n",
              "      --fill-color: #D2E3FC;\n",
              "      --hover-bg-color: #434B5C;\n",
              "      --hover-fill-color: #FFFFFF;\n",
              "      --disabled-bg-color: #3B4455;\n",
              "      --disabled-fill-color: #666;\n",
              "  }\n",
              "\n",
              "  .colab-df-quickchart {\n",
              "    background-color: var(--bg-color);\n",
              "    border: none;\n",
              "    border-radius: 50%;\n",
              "    cursor: pointer;\n",
              "    display: none;\n",
              "    fill: var(--fill-color);\n",
              "    height: 32px;\n",
              "    padding: 0;\n",
              "    width: 32px;\n",
              "  }\n",
              "\n",
              "  .colab-df-quickchart:hover {\n",
              "    background-color: var(--hover-bg-color);\n",
              "    box-shadow: 0 1px 2px rgba(60, 64, 67, 0.3), 0 1px 3px 1px rgba(60, 64, 67, 0.15);\n",
              "    fill: var(--button-hover-fill-color);\n",
              "  }\n",
              "\n",
              "  .colab-df-quickchart-complete:disabled,\n",
              "  .colab-df-quickchart-complete:disabled:hover {\n",
              "    background-color: var(--disabled-bg-color);\n",
              "    fill: var(--disabled-fill-color);\n",
              "    box-shadow: none;\n",
              "  }\n",
              "\n",
              "  .colab-df-spinner {\n",
              "    border: 2px solid var(--fill-color);\n",
              "    border-color: transparent;\n",
              "    border-bottom-color: var(--fill-color);\n",
              "    animation:\n",
              "      spin 1s steps(1) infinite;\n",
              "  }\n",
              "\n",
              "  @keyframes spin {\n",
              "    0% {\n",
              "      border-color: transparent;\n",
              "      border-bottom-color: var(--fill-color);\n",
              "      border-left-color: var(--fill-color);\n",
              "    }\n",
              "    20% {\n",
              "      border-color: transparent;\n",
              "      border-left-color: var(--fill-color);\n",
              "      border-top-color: var(--fill-color);\n",
              "    }\n",
              "    30% {\n",
              "      border-color: transparent;\n",
              "      border-left-color: var(--fill-color);\n",
              "      border-top-color: var(--fill-color);\n",
              "      border-right-color: var(--fill-color);\n",
              "    }\n",
              "    40% {\n",
              "      border-color: transparent;\n",
              "      border-right-color: var(--fill-color);\n",
              "      border-top-color: var(--fill-color);\n",
              "    }\n",
              "    60% {\n",
              "      border-color: transparent;\n",
              "      border-right-color: var(--fill-color);\n",
              "    }\n",
              "    80% {\n",
              "      border-color: transparent;\n",
              "      border-right-color: var(--fill-color);\n",
              "      border-bottom-color: var(--fill-color);\n",
              "    }\n",
              "    90% {\n",
              "      border-color: transparent;\n",
              "      border-bottom-color: var(--fill-color);\n",
              "    }\n",
              "  }\n",
              "</style>\n",
              "\n",
              "  <script>\n",
              "    async function quickchart(key) {\n",
              "      const quickchartButtonEl =\n",
              "        document.querySelector('#' + key + ' button');\n",
              "      quickchartButtonEl.disabled = true;  // To prevent multiple clicks.\n",
              "      quickchartButtonEl.classList.add('colab-df-spinner');\n",
              "      try {\n",
              "        const charts = await google.colab.kernel.invokeFunction(\n",
              "            'suggestCharts', [key], {});\n",
              "      } catch (error) {\n",
              "        console.error('Error during call to suggestCharts:', error);\n",
              "      }\n",
              "      quickchartButtonEl.classList.remove('colab-df-spinner');\n",
              "      quickchartButtonEl.classList.add('colab-df-quickchart-complete');\n",
              "    }\n",
              "    (() => {\n",
              "      let quickchartButtonEl =\n",
              "        document.querySelector('#df-c5e4f45e-4fff-4092-92d0-e899c505aa24 button');\n",
              "      quickchartButtonEl.style.display =\n",
              "        google.colab.kernel.accessAllowed ? 'block' : 'none';\n",
              "    })();\n",
              "  </script>\n",
              "</div>\n",
              "    </div>\n",
              "  </div>\n"
            ]
          },
          "metadata": {},
          "execution_count": 107
        }
      ]
    },
    {
      "cell_type": "code",
      "source": [
        "X_train, X_test, y_train, y_test = train_test_split(X, y, test_size = 0.25, random_state=0)"
      ],
      "metadata": {
        "id": "9qnbVts_JFby"
      },
      "execution_count": 108,
      "outputs": []
    },
    {
      "cell_type": "markdown",
      "source": [
        "- Setting test_size = 0.25 depicts that, about 25% of the entire data will be used for testing whilst 75% of the data will be used for training. In our code deployment, the X_train and y_train represents our training set for training on our ml model. Given this, X_test and y_test represnets our testing set which will be used to assess the performance of our machine learning model."
      ],
      "metadata": {
        "id": "Fir_bidYJKu6"
      }
    },
    {
      "cell_type": "code",
      "source": [
        "X_train.head()"
      ],
      "metadata": {
        "colab": {
          "base_uri": "https://localhost:8080/",
          "height": 241
        },
        "id": "vUuFnGHO4g0m",
        "outputId": "202bf0e6-1a7a-4acf-950d-a5f2bd2628ef"
      },
      "execution_count": 109,
      "outputs": [
        {
          "output_type": "execute_result",
          "data": {
            "text/plain": [
              "     Age  Blood Pressure  Specific Gravity  Albumin  Sugar  \\\n",
              "27    21              90             1.010        4      0   \n",
              "111   43              60             1.025        0      0   \n",
              "110   22              60             1.025        0      0   \n",
              "85    43              80             1.025        0      0   \n",
              "18    52              90             1.015        4      3   \n",
              "\n",
              "     Blood Glucose Random  Blood Urea  Serum Creatinine  Sodium  Potassium  \\\n",
              "27                    107          40               1.7     125        3.5   \n",
              "111                   108          25               1.0     144        5.0   \n",
              "110                    97          18               1.2     138        4.3   \n",
              "85                     81          46               0.6     135        4.9   \n",
              "18                    224         166               5.6     133       47.0   \n",
              "\n",
              "     Hemoglobin  Packed Cell Volume  White Blood Cell Count  \\\n",
              "27          8.3                  23                   12400   \n",
              "111        17.8                  43                    7200   \n",
              "110        13.5                  42                    7900   \n",
              "85         13.9                  48                    6900   \n",
              "18          8.1                  23                    5000   \n",
              "\n",
              "     Red Blood Cell Count  \n",
              "27                    3.9  \n",
              "111                   5.5  \n",
              "110                   6.4  \n",
              "85                    4.9  \n",
              "18                    2.9  "
            ],
            "text/html": [
              "\n",
              "  <div id=\"df-564c419c-b1ab-4b4e-acef-d03245dfdcb7\" class=\"colab-df-container\">\n",
              "    <div>\n",
              "<style scoped>\n",
              "    .dataframe tbody tr th:only-of-type {\n",
              "        vertical-align: middle;\n",
              "    }\n",
              "\n",
              "    .dataframe tbody tr th {\n",
              "        vertical-align: top;\n",
              "    }\n",
              "\n",
              "    .dataframe thead th {\n",
              "        text-align: right;\n",
              "    }\n",
              "</style>\n",
              "<table border=\"1\" class=\"dataframe\">\n",
              "  <thead>\n",
              "    <tr style=\"text-align: right;\">\n",
              "      <th></th>\n",
              "      <th>Age</th>\n",
              "      <th>Blood Pressure</th>\n",
              "      <th>Specific Gravity</th>\n",
              "      <th>Albumin</th>\n",
              "      <th>Sugar</th>\n",
              "      <th>Blood Glucose Random</th>\n",
              "      <th>Blood Urea</th>\n",
              "      <th>Serum Creatinine</th>\n",
              "      <th>Sodium</th>\n",
              "      <th>Potassium</th>\n",
              "      <th>Hemoglobin</th>\n",
              "      <th>Packed Cell Volume</th>\n",
              "      <th>White Blood Cell Count</th>\n",
              "      <th>Red Blood Cell Count</th>\n",
              "    </tr>\n",
              "  </thead>\n",
              "  <tbody>\n",
              "    <tr>\n",
              "      <th>27</th>\n",
              "      <td>21</td>\n",
              "      <td>90</td>\n",
              "      <td>1.010</td>\n",
              "      <td>4</td>\n",
              "      <td>0</td>\n",
              "      <td>107</td>\n",
              "      <td>40</td>\n",
              "      <td>1.7</td>\n",
              "      <td>125</td>\n",
              "      <td>3.5</td>\n",
              "      <td>8.3</td>\n",
              "      <td>23</td>\n",
              "      <td>12400</td>\n",
              "      <td>3.9</td>\n",
              "    </tr>\n",
              "    <tr>\n",
              "      <th>111</th>\n",
              "      <td>43</td>\n",
              "      <td>60</td>\n",
              "      <td>1.025</td>\n",
              "      <td>0</td>\n",
              "      <td>0</td>\n",
              "      <td>108</td>\n",
              "      <td>25</td>\n",
              "      <td>1.0</td>\n",
              "      <td>144</td>\n",
              "      <td>5.0</td>\n",
              "      <td>17.8</td>\n",
              "      <td>43</td>\n",
              "      <td>7200</td>\n",
              "      <td>5.5</td>\n",
              "    </tr>\n",
              "    <tr>\n",
              "      <th>110</th>\n",
              "      <td>22</td>\n",
              "      <td>60</td>\n",
              "      <td>1.025</td>\n",
              "      <td>0</td>\n",
              "      <td>0</td>\n",
              "      <td>97</td>\n",
              "      <td>18</td>\n",
              "      <td>1.2</td>\n",
              "      <td>138</td>\n",
              "      <td>4.3</td>\n",
              "      <td>13.5</td>\n",
              "      <td>42</td>\n",
              "      <td>7900</td>\n",
              "      <td>6.4</td>\n",
              "    </tr>\n",
              "    <tr>\n",
              "      <th>85</th>\n",
              "      <td>43</td>\n",
              "      <td>80</td>\n",
              "      <td>1.025</td>\n",
              "      <td>0</td>\n",
              "      <td>0</td>\n",
              "      <td>81</td>\n",
              "      <td>46</td>\n",
              "      <td>0.6</td>\n",
              "      <td>135</td>\n",
              "      <td>4.9</td>\n",
              "      <td>13.9</td>\n",
              "      <td>48</td>\n",
              "      <td>6900</td>\n",
              "      <td>4.9</td>\n",
              "    </tr>\n",
              "    <tr>\n",
              "      <th>18</th>\n",
              "      <td>52</td>\n",
              "      <td>90</td>\n",
              "      <td>1.015</td>\n",
              "      <td>4</td>\n",
              "      <td>3</td>\n",
              "      <td>224</td>\n",
              "      <td>166</td>\n",
              "      <td>5.6</td>\n",
              "      <td>133</td>\n",
              "      <td>47.0</td>\n",
              "      <td>8.1</td>\n",
              "      <td>23</td>\n",
              "      <td>5000</td>\n",
              "      <td>2.9</td>\n",
              "    </tr>\n",
              "  </tbody>\n",
              "</table>\n",
              "</div>\n",
              "    <div class=\"colab-df-buttons\">\n",
              "\n",
              "  <div class=\"colab-df-container\">\n",
              "    <button class=\"colab-df-convert\" onclick=\"convertToInteractive('df-564c419c-b1ab-4b4e-acef-d03245dfdcb7')\"\n",
              "            title=\"Convert this dataframe to an interactive table.\"\n",
              "            style=\"display:none;\">\n",
              "\n",
              "  <svg xmlns=\"http://www.w3.org/2000/svg\" height=\"24px\" viewBox=\"0 -960 960 960\">\n",
              "    <path d=\"M120-120v-720h720v720H120Zm60-500h600v-160H180v160Zm220 220h160v-160H400v160Zm0 220h160v-160H400v160ZM180-400h160v-160H180v160Zm440 0h160v-160H620v160ZM180-180h160v-160H180v160Zm440 0h160v-160H620v160Z\"/>\n",
              "  </svg>\n",
              "    </button>\n",
              "\n",
              "  <style>\n",
              "    .colab-df-container {\n",
              "      display:flex;\n",
              "      gap: 12px;\n",
              "    }\n",
              "\n",
              "    .colab-df-convert {\n",
              "      background-color: #E8F0FE;\n",
              "      border: none;\n",
              "      border-radius: 50%;\n",
              "      cursor: pointer;\n",
              "      display: none;\n",
              "      fill: #1967D2;\n",
              "      height: 32px;\n",
              "      padding: 0 0 0 0;\n",
              "      width: 32px;\n",
              "    }\n",
              "\n",
              "    .colab-df-convert:hover {\n",
              "      background-color: #E2EBFA;\n",
              "      box-shadow: 0px 1px 2px rgba(60, 64, 67, 0.3), 0px 1px 3px 1px rgba(60, 64, 67, 0.15);\n",
              "      fill: #174EA6;\n",
              "    }\n",
              "\n",
              "    .colab-df-buttons div {\n",
              "      margin-bottom: 4px;\n",
              "    }\n",
              "\n",
              "    [theme=dark] .colab-df-convert {\n",
              "      background-color: #3B4455;\n",
              "      fill: #D2E3FC;\n",
              "    }\n",
              "\n",
              "    [theme=dark] .colab-df-convert:hover {\n",
              "      background-color: #434B5C;\n",
              "      box-shadow: 0px 1px 3px 1px rgba(0, 0, 0, 0.15);\n",
              "      filter: drop-shadow(0px 1px 2px rgba(0, 0, 0, 0.3));\n",
              "      fill: #FFFFFF;\n",
              "    }\n",
              "  </style>\n",
              "\n",
              "    <script>\n",
              "      const buttonEl =\n",
              "        document.querySelector('#df-564c419c-b1ab-4b4e-acef-d03245dfdcb7 button.colab-df-convert');\n",
              "      buttonEl.style.display =\n",
              "        google.colab.kernel.accessAllowed ? 'block' : 'none';\n",
              "\n",
              "      async function convertToInteractive(key) {\n",
              "        const element = document.querySelector('#df-564c419c-b1ab-4b4e-acef-d03245dfdcb7');\n",
              "        const dataTable =\n",
              "          await google.colab.kernel.invokeFunction('convertToInteractive',\n",
              "                                                    [key], {});\n",
              "        if (!dataTable) return;\n",
              "\n",
              "        const docLinkHtml = 'Like what you see? Visit the ' +\n",
              "          '<a target=\"_blank\" href=https://colab.research.google.com/notebooks/data_table.ipynb>data table notebook</a>'\n",
              "          + ' to learn more about interactive tables.';\n",
              "        element.innerHTML = '';\n",
              "        dataTable['output_type'] = 'display_data';\n",
              "        await google.colab.output.renderOutput(dataTable, element);\n",
              "        const docLink = document.createElement('div');\n",
              "        docLink.innerHTML = docLinkHtml;\n",
              "        element.appendChild(docLink);\n",
              "      }\n",
              "    </script>\n",
              "  </div>\n",
              "\n",
              "\n",
              "<div id=\"df-29c87093-edd8-4c3c-b2f4-8c1238c362d4\">\n",
              "  <button class=\"colab-df-quickchart\" onclick=\"quickchart('df-29c87093-edd8-4c3c-b2f4-8c1238c362d4')\"\n",
              "            title=\"Suggest charts.\"\n",
              "            style=\"display:none;\">\n",
              "\n",
              "<svg xmlns=\"http://www.w3.org/2000/svg\" height=\"24px\"viewBox=\"0 0 24 24\"\n",
              "     width=\"24px\">\n",
              "    <g>\n",
              "        <path d=\"M19 3H5c-1.1 0-2 .9-2 2v14c0 1.1.9 2 2 2h14c1.1 0 2-.9 2-2V5c0-1.1-.9-2-2-2zM9 17H7v-7h2v7zm4 0h-2V7h2v10zm4 0h-2v-4h2v4z\"/>\n",
              "    </g>\n",
              "</svg>\n",
              "  </button>\n",
              "\n",
              "<style>\n",
              "  .colab-df-quickchart {\n",
              "      --bg-color: #E8F0FE;\n",
              "      --fill-color: #1967D2;\n",
              "      --hover-bg-color: #E2EBFA;\n",
              "      --hover-fill-color: #174EA6;\n",
              "      --disabled-fill-color: #AAA;\n",
              "      --disabled-bg-color: #DDD;\n",
              "  }\n",
              "\n",
              "  [theme=dark] .colab-df-quickchart {\n",
              "      --bg-color: #3B4455;\n",
              "      --fill-color: #D2E3FC;\n",
              "      --hover-bg-color: #434B5C;\n",
              "      --hover-fill-color: #FFFFFF;\n",
              "      --disabled-bg-color: #3B4455;\n",
              "      --disabled-fill-color: #666;\n",
              "  }\n",
              "\n",
              "  .colab-df-quickchart {\n",
              "    background-color: var(--bg-color);\n",
              "    border: none;\n",
              "    border-radius: 50%;\n",
              "    cursor: pointer;\n",
              "    display: none;\n",
              "    fill: var(--fill-color);\n",
              "    height: 32px;\n",
              "    padding: 0;\n",
              "    width: 32px;\n",
              "  }\n",
              "\n",
              "  .colab-df-quickchart:hover {\n",
              "    background-color: var(--hover-bg-color);\n",
              "    box-shadow: 0 1px 2px rgba(60, 64, 67, 0.3), 0 1px 3px 1px rgba(60, 64, 67, 0.15);\n",
              "    fill: var(--button-hover-fill-color);\n",
              "  }\n",
              "\n",
              "  .colab-df-quickchart-complete:disabled,\n",
              "  .colab-df-quickchart-complete:disabled:hover {\n",
              "    background-color: var(--disabled-bg-color);\n",
              "    fill: var(--disabled-fill-color);\n",
              "    box-shadow: none;\n",
              "  }\n",
              "\n",
              "  .colab-df-spinner {\n",
              "    border: 2px solid var(--fill-color);\n",
              "    border-color: transparent;\n",
              "    border-bottom-color: var(--fill-color);\n",
              "    animation:\n",
              "      spin 1s steps(1) infinite;\n",
              "  }\n",
              "\n",
              "  @keyframes spin {\n",
              "    0% {\n",
              "      border-color: transparent;\n",
              "      border-bottom-color: var(--fill-color);\n",
              "      border-left-color: var(--fill-color);\n",
              "    }\n",
              "    20% {\n",
              "      border-color: transparent;\n",
              "      border-left-color: var(--fill-color);\n",
              "      border-top-color: var(--fill-color);\n",
              "    }\n",
              "    30% {\n",
              "      border-color: transparent;\n",
              "      border-left-color: var(--fill-color);\n",
              "      border-top-color: var(--fill-color);\n",
              "      border-right-color: var(--fill-color);\n",
              "    }\n",
              "    40% {\n",
              "      border-color: transparent;\n",
              "      border-right-color: var(--fill-color);\n",
              "      border-top-color: var(--fill-color);\n",
              "    }\n",
              "    60% {\n",
              "      border-color: transparent;\n",
              "      border-right-color: var(--fill-color);\n",
              "    }\n",
              "    80% {\n",
              "      border-color: transparent;\n",
              "      border-right-color: var(--fill-color);\n",
              "      border-bottom-color: var(--fill-color);\n",
              "    }\n",
              "    90% {\n",
              "      border-color: transparent;\n",
              "      border-bottom-color: var(--fill-color);\n",
              "    }\n",
              "  }\n",
              "</style>\n",
              "\n",
              "  <script>\n",
              "    async function quickchart(key) {\n",
              "      const quickchartButtonEl =\n",
              "        document.querySelector('#' + key + ' button');\n",
              "      quickchartButtonEl.disabled = true;  // To prevent multiple clicks.\n",
              "      quickchartButtonEl.classList.add('colab-df-spinner');\n",
              "      try {\n",
              "        const charts = await google.colab.kernel.invokeFunction(\n",
              "            'suggestCharts', [key], {});\n",
              "      } catch (error) {\n",
              "        console.error('Error during call to suggestCharts:', error);\n",
              "      }\n",
              "      quickchartButtonEl.classList.remove('colab-df-spinner');\n",
              "      quickchartButtonEl.classList.add('colab-df-quickchart-complete');\n",
              "    }\n",
              "    (() => {\n",
              "      let quickchartButtonEl =\n",
              "        document.querySelector('#df-29c87093-edd8-4c3c-b2f4-8c1238c362d4 button');\n",
              "      quickchartButtonEl.style.display =\n",
              "        google.colab.kernel.accessAllowed ? 'block' : 'none';\n",
              "    })();\n",
              "  </script>\n",
              "</div>\n",
              "    </div>\n",
              "  </div>\n"
            ]
          },
          "metadata": {},
          "execution_count": 109
        }
      ]
    },
    {
      "cell_type": "code",
      "source": [
        "X_test.head()"
      ],
      "metadata": {
        "colab": {
          "base_uri": "https://localhost:8080/",
          "height": 241
        },
        "id": "vkbntXZq9Je7",
        "outputId": "11148120-c64a-4674-b4e1-8a00cf140a89"
      },
      "execution_count": 110,
      "outputs": [
        {
          "output_type": "execute_result",
          "data": {
            "text/plain": [
              "     Age  Blood Pressure  Specific Gravity  Albumin  Sugar  \\\n",
              "7     73              70             1.005        0      0   \n",
              "44    23              80             1.025        0      0   \n",
              "113   29              80             1.020        0      0   \n",
              "120   47              60             1.020        0      0   \n",
              "63    30              80             1.025        0      0   \n",
              "\n",
              "     Blood Glucose Random  Blood Urea  Serum Creatinine  Sodium  Potassium  \\\n",
              "7                      70          32               0.9     125        4.0   \n",
              "44                     70          36               1.0     150        4.6   \n",
              "113                    83          49               0.9     139        3.3   \n",
              "120                   117          22               1.2     138        3.5   \n",
              "63                     96          25               0.5     144        4.8   \n",
              "\n",
              "     Hemoglobin  Packed Cell Volume  White Blood Cell Count  \\\n",
              "7          10.0                  29                   18900   \n",
              "44         17.0                  52                    9800   \n",
              "113        17.5                  40                    9900   \n",
              "120        13.0                  45                    5200   \n",
              "63         13.8                  42                    9000   \n",
              "\n",
              "     Red Blood Cell Count  \n",
              "7                     3.5  \n",
              "44                    5.0  \n",
              "113                   4.7  \n",
              "120                   5.6  \n",
              "63                    4.5  "
            ],
            "text/html": [
              "\n",
              "  <div id=\"df-9e93dc95-52e4-438c-a61d-ba1265f4ceca\" class=\"colab-df-container\">\n",
              "    <div>\n",
              "<style scoped>\n",
              "    .dataframe tbody tr th:only-of-type {\n",
              "        vertical-align: middle;\n",
              "    }\n",
              "\n",
              "    .dataframe tbody tr th {\n",
              "        vertical-align: top;\n",
              "    }\n",
              "\n",
              "    .dataframe thead th {\n",
              "        text-align: right;\n",
              "    }\n",
              "</style>\n",
              "<table border=\"1\" class=\"dataframe\">\n",
              "  <thead>\n",
              "    <tr style=\"text-align: right;\">\n",
              "      <th></th>\n",
              "      <th>Age</th>\n",
              "      <th>Blood Pressure</th>\n",
              "      <th>Specific Gravity</th>\n",
              "      <th>Albumin</th>\n",
              "      <th>Sugar</th>\n",
              "      <th>Blood Glucose Random</th>\n",
              "      <th>Blood Urea</th>\n",
              "      <th>Serum Creatinine</th>\n",
              "      <th>Sodium</th>\n",
              "      <th>Potassium</th>\n",
              "      <th>Hemoglobin</th>\n",
              "      <th>Packed Cell Volume</th>\n",
              "      <th>White Blood Cell Count</th>\n",
              "      <th>Red Blood Cell Count</th>\n",
              "    </tr>\n",
              "  </thead>\n",
              "  <tbody>\n",
              "    <tr>\n",
              "      <th>7</th>\n",
              "      <td>73</td>\n",
              "      <td>70</td>\n",
              "      <td>1.005</td>\n",
              "      <td>0</td>\n",
              "      <td>0</td>\n",
              "      <td>70</td>\n",
              "      <td>32</td>\n",
              "      <td>0.9</td>\n",
              "      <td>125</td>\n",
              "      <td>4.0</td>\n",
              "      <td>10.0</td>\n",
              "      <td>29</td>\n",
              "      <td>18900</td>\n",
              "      <td>3.5</td>\n",
              "    </tr>\n",
              "    <tr>\n",
              "      <th>44</th>\n",
              "      <td>23</td>\n",
              "      <td>80</td>\n",
              "      <td>1.025</td>\n",
              "      <td>0</td>\n",
              "      <td>0</td>\n",
              "      <td>70</td>\n",
              "      <td>36</td>\n",
              "      <td>1.0</td>\n",
              "      <td>150</td>\n",
              "      <td>4.6</td>\n",
              "      <td>17.0</td>\n",
              "      <td>52</td>\n",
              "      <td>9800</td>\n",
              "      <td>5.0</td>\n",
              "    </tr>\n",
              "    <tr>\n",
              "      <th>113</th>\n",
              "      <td>29</td>\n",
              "      <td>80</td>\n",
              "      <td>1.020</td>\n",
              "      <td>0</td>\n",
              "      <td>0</td>\n",
              "      <td>83</td>\n",
              "      <td>49</td>\n",
              "      <td>0.9</td>\n",
              "      <td>139</td>\n",
              "      <td>3.3</td>\n",
              "      <td>17.5</td>\n",
              "      <td>40</td>\n",
              "      <td>9900</td>\n",
              "      <td>4.7</td>\n",
              "    </tr>\n",
              "    <tr>\n",
              "      <th>120</th>\n",
              "      <td>47</td>\n",
              "      <td>60</td>\n",
              "      <td>1.020</td>\n",
              "      <td>0</td>\n",
              "      <td>0</td>\n",
              "      <td>117</td>\n",
              "      <td>22</td>\n",
              "      <td>1.2</td>\n",
              "      <td>138</td>\n",
              "      <td>3.5</td>\n",
              "      <td>13.0</td>\n",
              "      <td>45</td>\n",
              "      <td>5200</td>\n",
              "      <td>5.6</td>\n",
              "    </tr>\n",
              "    <tr>\n",
              "      <th>63</th>\n",
              "      <td>30</td>\n",
              "      <td>80</td>\n",
              "      <td>1.025</td>\n",
              "      <td>0</td>\n",
              "      <td>0</td>\n",
              "      <td>96</td>\n",
              "      <td>25</td>\n",
              "      <td>0.5</td>\n",
              "      <td>144</td>\n",
              "      <td>4.8</td>\n",
              "      <td>13.8</td>\n",
              "      <td>42</td>\n",
              "      <td>9000</td>\n",
              "      <td>4.5</td>\n",
              "    </tr>\n",
              "  </tbody>\n",
              "</table>\n",
              "</div>\n",
              "    <div class=\"colab-df-buttons\">\n",
              "\n",
              "  <div class=\"colab-df-container\">\n",
              "    <button class=\"colab-df-convert\" onclick=\"convertToInteractive('df-9e93dc95-52e4-438c-a61d-ba1265f4ceca')\"\n",
              "            title=\"Convert this dataframe to an interactive table.\"\n",
              "            style=\"display:none;\">\n",
              "\n",
              "  <svg xmlns=\"http://www.w3.org/2000/svg\" height=\"24px\" viewBox=\"0 -960 960 960\">\n",
              "    <path d=\"M120-120v-720h720v720H120Zm60-500h600v-160H180v160Zm220 220h160v-160H400v160Zm0 220h160v-160H400v160ZM180-400h160v-160H180v160Zm440 0h160v-160H620v160ZM180-180h160v-160H180v160Zm440 0h160v-160H620v160Z\"/>\n",
              "  </svg>\n",
              "    </button>\n",
              "\n",
              "  <style>\n",
              "    .colab-df-container {\n",
              "      display:flex;\n",
              "      gap: 12px;\n",
              "    }\n",
              "\n",
              "    .colab-df-convert {\n",
              "      background-color: #E8F0FE;\n",
              "      border: none;\n",
              "      border-radius: 50%;\n",
              "      cursor: pointer;\n",
              "      display: none;\n",
              "      fill: #1967D2;\n",
              "      height: 32px;\n",
              "      padding: 0 0 0 0;\n",
              "      width: 32px;\n",
              "    }\n",
              "\n",
              "    .colab-df-convert:hover {\n",
              "      background-color: #E2EBFA;\n",
              "      box-shadow: 0px 1px 2px rgba(60, 64, 67, 0.3), 0px 1px 3px 1px rgba(60, 64, 67, 0.15);\n",
              "      fill: #174EA6;\n",
              "    }\n",
              "\n",
              "    .colab-df-buttons div {\n",
              "      margin-bottom: 4px;\n",
              "    }\n",
              "\n",
              "    [theme=dark] .colab-df-convert {\n",
              "      background-color: #3B4455;\n",
              "      fill: #D2E3FC;\n",
              "    }\n",
              "\n",
              "    [theme=dark] .colab-df-convert:hover {\n",
              "      background-color: #434B5C;\n",
              "      box-shadow: 0px 1px 3px 1px rgba(0, 0, 0, 0.15);\n",
              "      filter: drop-shadow(0px 1px 2px rgba(0, 0, 0, 0.3));\n",
              "      fill: #FFFFFF;\n",
              "    }\n",
              "  </style>\n",
              "\n",
              "    <script>\n",
              "      const buttonEl =\n",
              "        document.querySelector('#df-9e93dc95-52e4-438c-a61d-ba1265f4ceca button.colab-df-convert');\n",
              "      buttonEl.style.display =\n",
              "        google.colab.kernel.accessAllowed ? 'block' : 'none';\n",
              "\n",
              "      async function convertToInteractive(key) {\n",
              "        const element = document.querySelector('#df-9e93dc95-52e4-438c-a61d-ba1265f4ceca');\n",
              "        const dataTable =\n",
              "          await google.colab.kernel.invokeFunction('convertToInteractive',\n",
              "                                                    [key], {});\n",
              "        if (!dataTable) return;\n",
              "\n",
              "        const docLinkHtml = 'Like what you see? Visit the ' +\n",
              "          '<a target=\"_blank\" href=https://colab.research.google.com/notebooks/data_table.ipynb>data table notebook</a>'\n",
              "          + ' to learn more about interactive tables.';\n",
              "        element.innerHTML = '';\n",
              "        dataTable['output_type'] = 'display_data';\n",
              "        await google.colab.output.renderOutput(dataTable, element);\n",
              "        const docLink = document.createElement('div');\n",
              "        docLink.innerHTML = docLinkHtml;\n",
              "        element.appendChild(docLink);\n",
              "      }\n",
              "    </script>\n",
              "  </div>\n",
              "\n",
              "\n",
              "<div id=\"df-edf09ed8-7413-4a5e-9a44-0b2fcb208140\">\n",
              "  <button class=\"colab-df-quickchart\" onclick=\"quickchart('df-edf09ed8-7413-4a5e-9a44-0b2fcb208140')\"\n",
              "            title=\"Suggest charts.\"\n",
              "            style=\"display:none;\">\n",
              "\n",
              "<svg xmlns=\"http://www.w3.org/2000/svg\" height=\"24px\"viewBox=\"0 0 24 24\"\n",
              "     width=\"24px\">\n",
              "    <g>\n",
              "        <path d=\"M19 3H5c-1.1 0-2 .9-2 2v14c0 1.1.9 2 2 2h14c1.1 0 2-.9 2-2V5c0-1.1-.9-2-2-2zM9 17H7v-7h2v7zm4 0h-2V7h2v10zm4 0h-2v-4h2v4z\"/>\n",
              "    </g>\n",
              "</svg>\n",
              "  </button>\n",
              "\n",
              "<style>\n",
              "  .colab-df-quickchart {\n",
              "      --bg-color: #E8F0FE;\n",
              "      --fill-color: #1967D2;\n",
              "      --hover-bg-color: #E2EBFA;\n",
              "      --hover-fill-color: #174EA6;\n",
              "      --disabled-fill-color: #AAA;\n",
              "      --disabled-bg-color: #DDD;\n",
              "  }\n",
              "\n",
              "  [theme=dark] .colab-df-quickchart {\n",
              "      --bg-color: #3B4455;\n",
              "      --fill-color: #D2E3FC;\n",
              "      --hover-bg-color: #434B5C;\n",
              "      --hover-fill-color: #FFFFFF;\n",
              "      --disabled-bg-color: #3B4455;\n",
              "      --disabled-fill-color: #666;\n",
              "  }\n",
              "\n",
              "  .colab-df-quickchart {\n",
              "    background-color: var(--bg-color);\n",
              "    border: none;\n",
              "    border-radius: 50%;\n",
              "    cursor: pointer;\n",
              "    display: none;\n",
              "    fill: var(--fill-color);\n",
              "    height: 32px;\n",
              "    padding: 0;\n",
              "    width: 32px;\n",
              "  }\n",
              "\n",
              "  .colab-df-quickchart:hover {\n",
              "    background-color: var(--hover-bg-color);\n",
              "    box-shadow: 0 1px 2px rgba(60, 64, 67, 0.3), 0 1px 3px 1px rgba(60, 64, 67, 0.15);\n",
              "    fill: var(--button-hover-fill-color);\n",
              "  }\n",
              "\n",
              "  .colab-df-quickchart-complete:disabled,\n",
              "  .colab-df-quickchart-complete:disabled:hover {\n",
              "    background-color: var(--disabled-bg-color);\n",
              "    fill: var(--disabled-fill-color);\n",
              "    box-shadow: none;\n",
              "  }\n",
              "\n",
              "  .colab-df-spinner {\n",
              "    border: 2px solid var(--fill-color);\n",
              "    border-color: transparent;\n",
              "    border-bottom-color: var(--fill-color);\n",
              "    animation:\n",
              "      spin 1s steps(1) infinite;\n",
              "  }\n",
              "\n",
              "  @keyframes spin {\n",
              "    0% {\n",
              "      border-color: transparent;\n",
              "      border-bottom-color: var(--fill-color);\n",
              "      border-left-color: var(--fill-color);\n",
              "    }\n",
              "    20% {\n",
              "      border-color: transparent;\n",
              "      border-left-color: var(--fill-color);\n",
              "      border-top-color: var(--fill-color);\n",
              "    }\n",
              "    30% {\n",
              "      border-color: transparent;\n",
              "      border-left-color: var(--fill-color);\n",
              "      border-top-color: var(--fill-color);\n",
              "      border-right-color: var(--fill-color);\n",
              "    }\n",
              "    40% {\n",
              "      border-color: transparent;\n",
              "      border-right-color: var(--fill-color);\n",
              "      border-top-color: var(--fill-color);\n",
              "    }\n",
              "    60% {\n",
              "      border-color: transparent;\n",
              "      border-right-color: var(--fill-color);\n",
              "    }\n",
              "    80% {\n",
              "      border-color: transparent;\n",
              "      border-right-color: var(--fill-color);\n",
              "      border-bottom-color: var(--fill-color);\n",
              "    }\n",
              "    90% {\n",
              "      border-color: transparent;\n",
              "      border-bottom-color: var(--fill-color);\n",
              "    }\n",
              "  }\n",
              "</style>\n",
              "\n",
              "  <script>\n",
              "    async function quickchart(key) {\n",
              "      const quickchartButtonEl =\n",
              "        document.querySelector('#' + key + ' button');\n",
              "      quickchartButtonEl.disabled = true;  // To prevent multiple clicks.\n",
              "      quickchartButtonEl.classList.add('colab-df-spinner');\n",
              "      try {\n",
              "        const charts = await google.colab.kernel.invokeFunction(\n",
              "            'suggestCharts', [key], {});\n",
              "      } catch (error) {\n",
              "        console.error('Error during call to suggestCharts:', error);\n",
              "      }\n",
              "      quickchartButtonEl.classList.remove('colab-df-spinner');\n",
              "      quickchartButtonEl.classList.add('colab-df-quickchart-complete');\n",
              "    }\n",
              "    (() => {\n",
              "      let quickchartButtonEl =\n",
              "        document.querySelector('#df-edf09ed8-7413-4a5e-9a44-0b2fcb208140 button');\n",
              "      quickchartButtonEl.style.display =\n",
              "        google.colab.kernel.accessAllowed ? 'block' : 'none';\n",
              "    })();\n",
              "  </script>\n",
              "</div>\n",
              "    </div>\n",
              "  </div>\n"
            ]
          },
          "metadata": {},
          "execution_count": 110
        }
      ]
    },
    {
      "cell_type": "code",
      "source": [
        "y_train.head()"
      ],
      "metadata": {
        "colab": {
          "base_uri": "https://localhost:8080/"
        },
        "id": "2ShQxhqA9rau",
        "outputId": "de78d5d6-9a1c-4a5d-c97a-99b46a22cedb"
      },
      "execution_count": 111,
      "outputs": [
        {
          "output_type": "execute_result",
          "data": {
            "text/plain": [
              "27     1\n",
              "111    0\n",
              "110    0\n",
              "85     0\n",
              "18     1\n",
              "Name: Class, dtype: int64"
            ]
          },
          "metadata": {},
          "execution_count": 111
        }
      ]
    },
    {
      "cell_type": "code",
      "source": [
        "y_test.head()"
      ],
      "metadata": {
        "colab": {
          "base_uri": "https://localhost:8080/"
        },
        "id": "vFs-Ls_XFL8P",
        "outputId": "ae47f141-7aa6-4566-ab80-ecedccd83806"
      },
      "execution_count": 112,
      "outputs": [
        {
          "output_type": "execute_result",
          "data": {
            "text/plain": [
              "7      1\n",
              "44     0\n",
              "113    0\n",
              "120    0\n",
              "63     0\n",
              "Name: Class, dtype: int64"
            ]
          },
          "metadata": {},
          "execution_count": 112
        }
      ]
    },
    {
      "cell_type": "code",
      "source": [
        "# Getting the various rows and columns of our train and test data\n",
        "\n",
        "X_train.shape, X_test.shape, y_train.shape, y_test.shape"
      ],
      "metadata": {
        "colab": {
          "base_uri": "https://localhost:8080/"
        },
        "id": "RguhkBV6FaeP",
        "outputId": "cc4038be-da70-4ad9-b62d-12fb02fc514e"
      },
      "execution_count": 113,
      "outputs": [
        {
          "output_type": "execute_result",
          "data": {
            "text/plain": [
              "((118, 14), (40, 14), (118,), (40,))"
            ]
          },
          "metadata": {},
          "execution_count": 113
        }
      ]
    },
    {
      "cell_type": "code",
      "source": [
        "X_train.shape"
      ],
      "metadata": {
        "colab": {
          "base_uri": "https://localhost:8080/"
        },
        "id": "wSXeTfj4Y4S-",
        "outputId": "5aca0ff0-a4be-4105-f15f-c97f812db2f3"
      },
      "execution_count": 114,
      "outputs": [
        {
          "output_type": "execute_result",
          "data": {
            "text/plain": [
              "(118, 14)"
            ]
          },
          "metadata": {},
          "execution_count": 114
        }
      ]
    },
    {
      "cell_type": "code",
      "source": [
        "X_test.shape"
      ],
      "metadata": {
        "colab": {
          "base_uri": "https://localhost:8080/"
        },
        "id": "_lEB55mEY88m",
        "outputId": "70e0cdc9-cbcf-4ba7-8c96-6e6845672eb8"
      },
      "execution_count": 115,
      "outputs": [
        {
          "output_type": "execute_result",
          "data": {
            "text/plain": [
              "(40, 14)"
            ]
          },
          "metadata": {},
          "execution_count": 115
        }
      ]
    },
    {
      "cell_type": "code",
      "source": [
        "y_train.shape"
      ],
      "metadata": {
        "colab": {
          "base_uri": "https://localhost:8080/"
        },
        "id": "k-n-HRD7ZCwW",
        "outputId": "5aea2500-3984-48fe-b6ac-81d2bee22705"
      },
      "execution_count": 116,
      "outputs": [
        {
          "output_type": "execute_result",
          "data": {
            "text/plain": [
              "(118,)"
            ]
          },
          "metadata": {},
          "execution_count": 116
        }
      ]
    },
    {
      "cell_type": "code",
      "source": [
        "y_test.shape"
      ],
      "metadata": {
        "colab": {
          "base_uri": "https://localhost:8080/"
        },
        "id": "Qu2MczDCZIj-",
        "outputId": "f58e33be-89ce-400b-e3b3-0d5f34a788f8"
      },
      "execution_count": 117,
      "outputs": [
        {
          "output_type": "execute_result",
          "data": {
            "text/plain": [
              "(40,)"
            ]
          },
          "metadata": {},
          "execution_count": 117
        }
      ]
    },
    {
      "cell_type": "markdown",
      "source": [
        "# Let us implement the k-nearest neighbor classifier\n",
        "For the goal of our machine learning classification task which is for our model to predict if a new patient **has chronic kidney disease** or **does not have chronic kidney disease**, we would use the k-nearest neighbor algorithm. This algorithim is good for this task as it will make use of similarity and pattern recognition in the data it already knows to classify a new data point based on it closeness to its nearest neighbor in the training dataset."
      ],
      "metadata": {
        "id": "IhyNJWb-W5Im"
      }
    },
    {
      "cell_type": "code",
      "source": [
        "# Let us set our set our knn to be 3 (to prevent overfitiing of our model)\n",
        "knn = KNeighborsClassifier(n_neighbors=3)"
      ],
      "metadata": {
        "id": "cWo87mFjbBfo"
      },
      "execution_count": 118,
      "outputs": []
    },
    {
      "cell_type": "markdown",
      "source": [
        "This means, the knn classifier will use 3 nearest neigbors to make the predictions based on a K-nn algorithim with a K-value of 3."
      ],
      "metadata": {
        "id": "T9O2O1bWcOMH"
      }
    },
    {
      "cell_type": "code",
      "source": [
        "# Training ml model on known data thus train set data (X_train & y_train)\n",
        "\n",
        "knn.fit(X_train, y_train)"
      ],
      "metadata": {
        "colab": {
          "base_uri": "https://localhost:8080/",
          "height": 75
        },
        "id": "YG93xLZsdGGp",
        "outputId": "42352fa1-8dfc-449a-9ebd-847ba6b9f177"
      },
      "execution_count": 119,
      "outputs": [
        {
          "output_type": "execute_result",
          "data": {
            "text/plain": [
              "KNeighborsClassifier(n_neighbors=3)"
            ],
            "text/html": [
              "<style>#sk-container-id-2 {color: black;background-color: white;}#sk-container-id-2 pre{padding: 0;}#sk-container-id-2 div.sk-toggleable {background-color: white;}#sk-container-id-2 label.sk-toggleable__label {cursor: pointer;display: block;width: 100%;margin-bottom: 0;padding: 0.3em;box-sizing: border-box;text-align: center;}#sk-container-id-2 label.sk-toggleable__label-arrow:before {content: \"▸\";float: left;margin-right: 0.25em;color: #696969;}#sk-container-id-2 label.sk-toggleable__label-arrow:hover:before {color: black;}#sk-container-id-2 div.sk-estimator:hover label.sk-toggleable__label-arrow:before {color: black;}#sk-container-id-2 div.sk-toggleable__content {max-height: 0;max-width: 0;overflow: hidden;text-align: left;background-color: #f0f8ff;}#sk-container-id-2 div.sk-toggleable__content pre {margin: 0.2em;color: black;border-radius: 0.25em;background-color: #f0f8ff;}#sk-container-id-2 input.sk-toggleable__control:checked~div.sk-toggleable__content {max-height: 200px;max-width: 100%;overflow: auto;}#sk-container-id-2 input.sk-toggleable__control:checked~label.sk-toggleable__label-arrow:before {content: \"▾\";}#sk-container-id-2 div.sk-estimator input.sk-toggleable__control:checked~label.sk-toggleable__label {background-color: #d4ebff;}#sk-container-id-2 div.sk-label input.sk-toggleable__control:checked~label.sk-toggleable__label {background-color: #d4ebff;}#sk-container-id-2 input.sk-hidden--visually {border: 0;clip: rect(1px 1px 1px 1px);clip: rect(1px, 1px, 1px, 1px);height: 1px;margin: -1px;overflow: hidden;padding: 0;position: absolute;width: 1px;}#sk-container-id-2 div.sk-estimator {font-family: monospace;background-color: #f0f8ff;border: 1px dotted black;border-radius: 0.25em;box-sizing: border-box;margin-bottom: 0.5em;}#sk-container-id-2 div.sk-estimator:hover {background-color: #d4ebff;}#sk-container-id-2 div.sk-parallel-item::after {content: \"\";width: 100%;border-bottom: 1px solid gray;flex-grow: 1;}#sk-container-id-2 div.sk-label:hover label.sk-toggleable__label {background-color: #d4ebff;}#sk-container-id-2 div.sk-serial::before {content: \"\";position: absolute;border-left: 1px solid gray;box-sizing: border-box;top: 0;bottom: 0;left: 50%;z-index: 0;}#sk-container-id-2 div.sk-serial {display: flex;flex-direction: column;align-items: center;background-color: white;padding-right: 0.2em;padding-left: 0.2em;position: relative;}#sk-container-id-2 div.sk-item {position: relative;z-index: 1;}#sk-container-id-2 div.sk-parallel {display: flex;align-items: stretch;justify-content: center;background-color: white;position: relative;}#sk-container-id-2 div.sk-item::before, #sk-container-id-2 div.sk-parallel-item::before {content: \"\";position: absolute;border-left: 1px solid gray;box-sizing: border-box;top: 0;bottom: 0;left: 50%;z-index: -1;}#sk-container-id-2 div.sk-parallel-item {display: flex;flex-direction: column;z-index: 1;position: relative;background-color: white;}#sk-container-id-2 div.sk-parallel-item:first-child::after {align-self: flex-end;width: 50%;}#sk-container-id-2 div.sk-parallel-item:last-child::after {align-self: flex-start;width: 50%;}#sk-container-id-2 div.sk-parallel-item:only-child::after {width: 0;}#sk-container-id-2 div.sk-dashed-wrapped {border: 1px dashed gray;margin: 0 0.4em 0.5em 0.4em;box-sizing: border-box;padding-bottom: 0.4em;background-color: white;}#sk-container-id-2 div.sk-label label {font-family: monospace;font-weight: bold;display: inline-block;line-height: 1.2em;}#sk-container-id-2 div.sk-label-container {text-align: center;}#sk-container-id-2 div.sk-container {/* jupyter's `normalize.less` sets `[hidden] { display: none; }` but bootstrap.min.css set `[hidden] { display: none !important; }` so we also need the `!important` here to be able to override the default hidden behavior on the sphinx rendered scikit-learn.org. See: https://github.com/scikit-learn/scikit-learn/issues/21755 */display: inline-block !important;position: relative;}#sk-container-id-2 div.sk-text-repr-fallback {display: none;}</style><div id=\"sk-container-id-2\" class=\"sk-top-container\"><div class=\"sk-text-repr-fallback\"><pre>KNeighborsClassifier(n_neighbors=3)</pre><b>In a Jupyter environment, please rerun this cell to show the HTML representation or trust the notebook. <br />On GitHub, the HTML representation is unable to render, please try loading this page with nbviewer.org.</b></div><div class=\"sk-container\" hidden><div class=\"sk-item\"><div class=\"sk-estimator sk-toggleable\"><input class=\"sk-toggleable__control sk-hidden--visually\" id=\"sk-estimator-id-2\" type=\"checkbox\" checked><label for=\"sk-estimator-id-2\" class=\"sk-toggleable__label sk-toggleable__label-arrow\">KNeighborsClassifier</label><div class=\"sk-toggleable__content\"><pre>KNeighborsClassifier(n_neighbors=3)</pre></div></div></div></div></div>"
            ]
          },
          "metadata": {},
          "execution_count": 119
        }
      ]
    },
    {
      "cell_type": "code",
      "source": [
        "# Using ml model to predict class labels of our X_train set\n",
        "\n",
        "preds_train = knn.predict(X_train)"
      ],
      "metadata": {
        "id": "0xCivQ9xbtq4"
      },
      "execution_count": 120,
      "outputs": []
    },
    {
      "cell_type": "code",
      "source": [
        "type(preds_train), type(y_train)"
      ],
      "metadata": {
        "colab": {
          "base_uri": "https://localhost:8080/"
        },
        "id": "RDAR4fCIe-JQ",
        "outputId": "def8917e-8afb-4f5c-92ef-55316368b5cf"
      },
      "execution_count": 121,
      "outputs": [
        {
          "output_type": "execute_result",
          "data": {
            "text/plain": [
              "(numpy.ndarray, pandas.core.series.Series)"
            ]
          },
          "metadata": {},
          "execution_count": 121
        }
      ]
    },
    {
      "cell_type": "code",
      "source": [
        "preds_train == y_train"
      ],
      "metadata": {
        "colab": {
          "base_uri": "https://localhost:8080/"
        },
        "id": "-5kMBNy_fDTP",
        "outputId": "ae99b487-bd8b-4c74-897f-464870f75ede"
      },
      "execution_count": 122,
      "outputs": [
        {
          "output_type": "execute_result",
          "data": {
            "text/plain": [
              "27      True\n",
              "111     True\n",
              "110     True\n",
              "85      True\n",
              "18     False\n",
              "       ...  \n",
              "9       True\n",
              "103     True\n",
              "67      True\n",
              "117     True\n",
              "47      True\n",
              "Name: Class, Length: 118, dtype: bool"
            ]
          },
          "metadata": {},
          "execution_count": 122
        }
      ]
    },
    {
      "cell_type": "code",
      "source": [
        "# Computing accuracy of ml model on training set\n",
        "\n",
        "sum(preds_train == y_train) / len(preds_train)"
      ],
      "metadata": {
        "colab": {
          "base_uri": "https://localhost:8080/"
        },
        "id": "nyA3UjuvfIjg",
        "outputId": "0407554e-b19c-4977-c1de-5198314bb381"
      },
      "execution_count": 123,
      "outputs": [
        {
          "output_type": "execute_result",
          "data": {
            "text/plain": [
              "0.864406779661017"
            ]
          },
          "metadata": {},
          "execution_count": 123
        }
      ]
    },
    {
      "cell_type": "code",
      "source": [
        "# Using NumPy's count_nonzero function to count correct predictions ml model classified\n",
        "\n",
        "np.count_nonzero(preds_train == y_train) / len(preds_train) # as a way of assessing model's performance"
      ],
      "metadata": {
        "colab": {
          "base_uri": "https://localhost:8080/"
        },
        "id": "d5arWgb4fQ4f",
        "outputId": "a95f8ee9-1160-45f0-cd49-5b197164c9b9"
      },
      "execution_count": 124,
      "outputs": [
        {
          "output_type": "execute_result",
          "data": {
            "text/plain": [
              "0.864406779661017"
            ]
          },
          "metadata": {},
          "execution_count": 124
        }
      ]
    },
    {
      "cell_type": "code",
      "source": [
        "# Assessing the performance of our model on the new data points by computing the accuracy score as the mean of correct predictions\n",
        "\n",
        "np.mean(preds_train == y_train)\n"
      ],
      "metadata": {
        "colab": {
          "base_uri": "https://localhost:8080/"
        },
        "id": "6mHrgDmnfXKn",
        "outputId": "447f4e20-7ce7-4a94-9aa0-55486d41a86c"
      },
      "execution_count": 125,
      "outputs": [
        {
          "output_type": "execute_result",
          "data": {
            "text/plain": [
              "0.864406779661017"
            ]
          },
          "metadata": {},
          "execution_count": 125
        }
      ]
    },
    {
      "cell_type": "code",
      "source": [
        "# Evaluating our ml model by deploying trained k-n classifier to the test set to make predictions of class labels\n",
        "\n",
        "preds_test = knn.predict(X_test)"
      ],
      "metadata": {
        "id": "Y49AHlrVfboA"
      },
      "execution_count": 126,
      "outputs": []
    },
    {
      "cell_type": "code",
      "source": [
        "# ml model predictions for class labels of test set\n",
        "\n",
        "preds_test"
      ],
      "metadata": {
        "colab": {
          "base_uri": "https://localhost:8080/"
        },
        "id": "PQaZYwbifh8X",
        "outputId": "4886cdea-ce1b-4788-c6e4-b4c95f5be7d4"
      },
      "execution_count": 127,
      "outputs": [
        {
          "output_type": "execute_result",
          "data": {
            "text/plain": [
              "array([1, 0, 0, 0, 0, 0, 0, 0, 0, 0, 0, 0, 1, 0, 0, 0, 0, 0, 0, 1, 0, 1,\n",
              "       0, 0, 0, 0, 0, 1, 0, 0, 0, 0, 0, 0, 0, 1, 0, 0, 0, 0])"
            ]
          },
          "metadata": {},
          "execution_count": 127
        }
      ]
    },
    {
      "cell_type": "code",
      "source": [
        "y_test"
      ],
      "metadata": {
        "colab": {
          "base_uri": "https://localhost:8080/"
        },
        "id": "w6BpTCDBfwD-",
        "outputId": "1f3ef04e-fd1d-42b5-c38e-e836fbbf6125"
      },
      "execution_count": 128,
      "outputs": [
        {
          "output_type": "execute_result",
          "data": {
            "text/plain": [
              "7      1\n",
              "44     0\n",
              "113    0\n",
              "120    0\n",
              "63     0\n",
              "122    0\n",
              "121    0\n",
              "139    0\n",
              "109    0\n",
              "92     0\n",
              "24     1\n",
              "141    0\n",
              "26     1\n",
              "60     0\n",
              "80     0\n",
              "97     0\n",
              "129    0\n",
              "98     0\n",
              "142    0\n",
              "56     0\n",
              "45     0\n",
              "33     1\n",
              "59     0\n",
              "8      1\n",
              "40     1\n",
              "37     1\n",
              "101    0\n",
              "19     1\n",
              "144    0\n",
              "108    0\n",
              "51     0\n",
              "54     0\n",
              "16     1\n",
              "130    0\n",
              "134    0\n",
              "22     1\n",
              "93     0\n",
              "66     0\n",
              "112    0\n",
              "94     0\n",
              "Name: Class, dtype: int64"
            ]
          },
          "metadata": {},
          "execution_count": 128
        }
      ]
    },
    {
      "cell_type": "code",
      "source": [
        "np.mean(preds_test == y_test)"
      ],
      "metadata": {
        "colab": {
          "base_uri": "https://localhost:8080/"
        },
        "id": "g2giRteqfx9_",
        "outputId": "d337ae9b-2a06-40d1-ff31-eb3d71ad1cab"
      },
      "execution_count": 129,
      "outputs": [
        {
          "output_type": "execute_result",
          "data": {
            "text/plain": [
              "0.85"
            ]
          },
          "metadata": {},
          "execution_count": 129
        }
      ]
    },
    {
      "cell_type": "code",
      "source": [
        "# Assessing model's performance on test data by computing for accuracy score\n",
        "\n",
        "knn.score(X_test, y_test)"
      ],
      "metadata": {
        "colab": {
          "base_uri": "https://localhost:8080/"
        },
        "id": "g9jmmhYif4_v",
        "outputId": "c80dacc0-6593-4e7d-ddc1-cd9e8919bed2"
      },
      "execution_count": 130,
      "outputs": [
        {
          "output_type": "execute_result",
          "data": {
            "text/plain": [
              "0.85"
            ]
          },
          "metadata": {},
          "execution_count": 130
        }
      ]
    },
    {
      "cell_type": "markdown",
      "source": [
        "# Insights from model built and application\n",
        "Results presented from the outcome of the k-nearest classifier model built predicted with an accuracy score of 0.85 on the test data used. The classifier outputing an accuracy score of 85% means that, out of the entire new tested data that the model predicted, 85% of the samples were correctly classified into their right segments.\n",
        "\n",
        "In this evaluation, we observe that our machine learning model (knn classifier) correctly predicted new data points on whether they had chronic kidney disease (ckd) or not. This model might look at trends, recognize patterns in diagnosis on the already known data set that it has been trained on. Using a K value of 3 simply means that model should give predictions of the **new data points**, by looking at the three most closest data cluster to the new data point in the training set. The remaining **15%** could be understood as misclassification of samples during model buildng.\n",
        "In as much as model correctly spelt **85%** of accuracy score on sample test data, it is important to ensure proper performance on new data. Having understood this, we will perform an f1 score on our true label data thus y_train and y_test to assess the performance of our classifier on unseen data."
      ],
      "metadata": {
        "id": "ypXVP8kaZvyN"
      }
    },
    {
      "cell_type": "code",
      "source": [
        "# Threshold to convert continuous labels to binary (e.g., 0 and 1)\n",
        "\n",
        "# Setting threshold to be 0.5\n",
        "\n",
        "threshold = 0.5\n",
        "true_labels_train_binary = [1 if label >= threshold else 0 for label in y_train]\n",
        "true_labels_test_binary = [1 if label >= threshold else 0 for label in y_test]\n"
      ],
      "metadata": {
        "id": "Se98WymA0dMt"
      },
      "execution_count": 131,
      "outputs": []
    },
    {
      "cell_type": "code",
      "source": [
        "# Computing for f1 score to assess the overall performance of the model on all classes of our true labels\n",
        "\n",
        "f1_train = f1_score(y_train, preds_train)\n",
        "f1_test = f1_score(y_test, preds_test)"
      ],
      "metadata": {
        "id": "LkhCjYOn1ZDK"
      },
      "execution_count": 132,
      "outputs": []
    },
    {
      "cell_type": "code",
      "source": [
        "# Getting the f1 score on our true labeled data\n",
        "\n",
        "print(\"F1 Score for Training Set:\", f1_train)\n",
        "print(\"F1 Score for Testing Set:\", f1_test)"
      ],
      "metadata": {
        "colab": {
          "base_uri": "https://localhost:8080/"
        },
        "id": "xWR5udHQ1zcQ",
        "outputId": "a2c89349-b32e-47d3-9641-f1e5c7b66d0d"
      },
      "execution_count": 133,
      "outputs": [
        {
          "output_type": "stream",
          "name": "stdout",
          "text": [
            "F1 Score for Training Set: 0.6923076923076923\n",
            "F1 Score for Testing Set: 0.625\n"
          ]
        }
      ]
    },
    {
      "cell_type": "markdown",
      "source": [
        "An f1 score of 0.69 on training set and 0.625 on testing set means that, the k-nearest classifer achieved a balance between precision and recall score. This also means that, the machine learning model built makes a balanced and seamingly effective prediction of classified cases. Having evaluated our model with some metrics, we could conclude that our model can be deployed in reality on unseen data since accuracy score was 85% and f1 score remain balanced. However, 0.625 of f1 score on test set can be improved to ensure better model performance."
      ],
      "metadata": {
        "id": "L6H4vU_Rgu2B"
      }
    },
    {
      "cell_type": "markdown",
      "source": [
        "# Project Summary\n",
        "In this project, our primary aim was to build a machine learning model that is able to clearly predict if new patients introduced to the model has chronic kidney disease or not. In the dataset, we have 25 attributes of different patient's laboratory test to assess the behavior of these patients. Model will intend learn these patterns that are on each observation to aid it to make predictions on new data points. Scatterplot visualizations are applied to the dataset to extract more information about our data in our quest to build an ml model for prediction analysis.\n",
        "\n",
        "Using an intuitive strategy alongside with scatterplot analysis and other relevant metrics, we will assess our model's performance as it predicts if new data clusters have chronic kidney disease or not. Outcome proved that, model accurately predicted new data points with a k-nearest classifier score of 85% on test data. An f1 score of 0.625 on test data is a good balance to assess our model's performance since our model misclassified about 15% of samples. From this project, we can conclude that machine learning models (in the case of classification) can be used to predict diseases such as chronic kidney disease in patients.\n",
        "\n",
        "Machine learning model can help doctors make great predictions on new or unseen data as we have seen in our analysis.\n",
        "Classification models can also help doctors provide rapid treatments to patients looking at the measure of severity of the said disease or condition identified.\n"
      ],
      "metadata": {
        "id": "R49-MF8ClBXE"
      }
    }
  ],
  "metadata": {
    "colab": {
      "provenance": []
    },
    "kernelspec": {
      "display_name": "Python 3 (ipykernel)",
      "language": "python",
      "name": "python3"
    },
    "language_info": {
      "codemirror_mode": {
        "name": "ipython",
        "version": 3
      },
      "file_extension": ".py",
      "mimetype": "text/x-python",
      "name": "python",
      "nbconvert_exporter": "python",
      "pygments_lexer": "ipython3",
      "version": "3.9.7"
    }
  },
  "nbformat": 4,
  "nbformat_minor": 0
}